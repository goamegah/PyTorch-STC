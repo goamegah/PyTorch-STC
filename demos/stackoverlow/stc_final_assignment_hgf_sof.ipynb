{
 "cells": [
  {
   "cell_type": "code",
   "execution_count": 4,
   "metadata": {},
   "outputs": [
    {
     "name": "stderr",
     "output_type": "stream",
     "text": [
      "[nltk_data] Downloading package punkt to /home/godwin/nltk_data...\n",
      "[nltk_data]   Package punkt is already up-to-date!\n",
      "[nltk_data] Downloading package punkt to /home/godwin/nltk_data...\n",
      "[nltk_data]   Package punkt is already up-to-date!\n"
     ]
    },
    {
     "name": "stdout",
     "output_type": "stream",
     "text": [
      ">>>>> /home/godwin/Documents/academic/PPD/torchSTC/demos/stackoverlow\n",
      ">>>>> data_loader.py cwd:  /home/godwin/Documents/academic/PPD/torchSTC/demos/stackoverlow\n"
     ]
    },
    {
     "name": "stderr",
     "output_type": "stream",
     "text": [
      "/home/godwin/Documents/academic/PPD/torchSTC/env/lib/python3.11/site-packages/tqdm/auto.py:21: TqdmWarning: IProgress not found. Please update jupyter and ipywidgets. See https://ipywidgets.readthedocs.io/en/stable/user_install.html\n",
      "  from .autonotebook import tqdm as notebook_tqdm\n"
     ]
    }
   ],
   "source": [
    "import warnings\n",
    "warnings.filterwarnings(\"ignore\", message=\"numpy.dtype size changed\")\n",
    "warnings.filterwarnings(\"ignore\", message=\"numpy.ufunc size changed\")\n",
    "\n",
    "import sys\n",
    "from os.path import abspath\n",
    "sys.path.insert(0, abspath('..'))\n",
    "\n",
    "from os.path import join\n",
    "\n",
    "from sklearn.model_selection import train_test_split\n",
    "from sklearn.cluster import KMeans\n",
    "from spherecluster import SphericalKMeans, VonMisesFisherMixture\n",
    "import numpy as np\n",
    "\n",
    "\n",
    "import torch\n",
    "from torchSTC.data import load_data\n",
    "from torchSTC.modules import STC\n",
    "from torchSTC.metrics import SpacePlot, Evaluate\n",
    "from torchSTC.utils.cluster import SphericalKmeans\n",
    "\n",
    "plot = SpacePlot()\n",
    "eval = Evaluate()"
   ]
  },
  {
   "cell_type": "code",
   "execution_count": 5,
   "metadata": {},
   "outputs": [],
   "source": [
    "cur = abspath(\"\")\n",
    "dataset = 'stackoverflow'\n",
    "data_in_dir=join(cur, \"..\", \"datasets\")\n",
    "dataset_dir=join(data_in_dir, dataset)"
   ]
  },
  {
   "cell_type": "code",
   "execution_count": null,
   "metadata": {},
   "outputs": [],
   "source": [
    "checkpoint_dir=join(dataset_dir, \n",
    "                    \"artefacts\",\n",
    "                    \"STC-d384:500:500:2000:20-epoch30-datSearchSnippets-wdeHuggingFace-scaMinMax-tfeNone-norml2-initKmeans\"\n",
    "                    )\n",
    "\n",
    "checkpoint = \"STC-datSearchSnippets-wdeHuggingFace-scaMinMax-tfeNone-norml2-initKmeans.pth\"\n",
    "checkpoint_path = join(checkpoint_dir, checkpoint)\n",
    "checkpoint_path"
   ]
  },
  {
   "cell_type": "markdown",
   "metadata": {},
   "source": [
    "### STC-datstackoverflow-wdeHuggingFace-scaMinMax-tfeNone-normNone-initKmeans + Kmeans"
   ]
  },
  {
   "cell_type": "code",
   "execution_count": null,
   "metadata": {},
   "outputs": [],
   "source": [
    "stc_weights=join(data_in_dir, \n",
    "                 dataset, \n",
    "                 \"artefacts\",\n",
    "                 \"STC-datstackoverflow-wdeHuggingFace-scaMinMax-tfeNone-normNone-initKmeans.pth\")"
   ]
  },
  {
   "cell_type": "code",
   "execution_count": null,
   "metadata": {},
   "outputs": [],
   "source": [
    "x, y = load_data(dataset=dataset_dir, word_emb='HuggingFace', transform=None, scaler='MinMax', norm=None)\n",
    "n_clusters = len(torch.unique(torch.tensor(y)))\n",
    "\n",
    "# Division des données en ensembles d'entraînement et de test\n",
    "X_train, X_test, y_train, y_test = train_test_split(x, y, test_size=0.1, random_state=0)\n",
    "\n",
    "# conversion des données en tenseurs\n",
    "X_train = torch.tensor(X_train, dtype=torch.float)\n",
    "X_test = torch.tensor(X_test, dtype=torch.float)\n",
    "y_train = torch.tensor(y_train, dtype=torch.long)\n",
    "y_test = torch.tensor(y_test, dtype=torch.long)\n",
    "\n",
    "stc = STC(hidden_dims=[torch.Tensor(X_train).shape[-1], 500, 500, 2000, 20], n_clusters=n_clusters)\n",
    "stc.from_pretrained(stc_weights)\n",
    "\n",
    "X_train.shape, X_test.shape, y_train.shape, y_test.shape"
   ]
  },
  {
   "cell_type": "code",
   "execution_count": null,
   "metadata": {},
   "outputs": [],
   "source": [
    "z = stc.autoencoder.encoder(X_train)"
   ]
  },
  {
   "cell_type": "code",
   "execution_count": null,
   "metadata": {},
   "outputs": [],
   "source": [
    "# comprehension list with 5 runs of kmeans, get average and std of metrics\n",
    "avg_hf_mmx_ikm = []\n",
    "tmp = []\n",
    "for i in range(5):\n",
    "    kmeans = KMeans(n_clusters=n_clusters, n_init=50)\n",
    "    kmeans.fit(z.detach().numpy())\n",
    "    y_km_pred = kmeans.labels_\n",
    "    tmp.append(eval.allMetrics(y_train.detach().numpy(), y_km_pred))\n",
    "\n",
    "avg_hf_mmx_ikm = np.array(tmp)\n",
    "np.round(avg_hf_mmx_ikm.mean(axis=0), 3) * 100, avg_hf_mmx_ikm.std(axis=0)"
   ]
  },
  {
   "cell_type": "code",
   "execution_count": null,
   "metadata": {},
   "outputs": [],
   "source": [
    "kmeans = KMeans(n_clusters=n_clusters, n_init=50)\n",
    "kmeans.fit(z.detach().numpy())\n",
    "y_km_pred = kmeans.labels_"
   ]
  },
  {
   "cell_type": "code",
   "execution_count": null,
   "metadata": {},
   "outputs": [],
   "source": [
    "eval.allMetrics(y_train.detach().numpy(), y_km_pred)"
   ]
  },
  {
   "cell_type": "code",
   "execution_count": null,
   "metadata": {},
   "outputs": [],
   "source": [
    "plot.commonSpace_plot(z.detach().numpy(), comp=[0, 1], tagLabels=y_km_pred,\n",
    "                      data_name=\"Sof HF-embedding final Kmeans assign\", dimred = 'UMAP')"
   ]
  },
  {
   "cell_type": "code",
   "execution_count": null,
   "metadata": {},
   "outputs": [],
   "source": [
    "plot.commonSpace_plot(z.detach().numpy(), comp=[0, 1], tagLabels=y_km_pred,\n",
    "                      data_name=\"Sof HF-embedding final Kmeans assign\", dimred = 'TSNE')"
   ]
  },
  {
   "cell_type": "markdown",
   "metadata": {},
   "source": [
    "### STC-datstackoverflow-wdeHuggingFace-scaMinMax-tfeNone-normNone-initSphericalKmeans + Kmeans"
   ]
  },
  {
   "cell_type": "code",
   "execution_count": null,
   "metadata": {},
   "outputs": [],
   "source": [
    "stc_weights=join(data_in_dir, \n",
    "                 dataset, \n",
    "                 \"artefacts\",\n",
    "                 \"STC-datstackoverflow-wdeHuggingFace-scaMinMax-tfeNone-normNone-initSphericalKmeans.pth\")"
   ]
  },
  {
   "cell_type": "code",
   "execution_count": null,
   "metadata": {},
   "outputs": [],
   "source": [
    "x, y = load_data(dataset=dataset_dir, word_emb='HuggingFace', transform=None, scaler='MinMax', norm=None)\n",
    "n_clusters = len(torch.unique(torch.tensor(y)))\n",
    "\n",
    "# Division des données en ensembles d'entraînement et de test\n",
    "X_train, X_test, y_train, y_test = train_test_split(x, y, test_size=0.1, random_state=0)\n",
    "\n",
    "# conversion des données en tenseurs\n",
    "X_train = torch.tensor(X_train, dtype=torch.float)\n",
    "X_test = torch.tensor(X_test, dtype=torch.float)\n",
    "y_train = torch.tensor(y_train, dtype=torch.long)\n",
    "y_test = torch.tensor(y_test, dtype=torch.long)\n",
    "\n",
    "stc = STC(hidden_dims=[torch.Tensor(X_train).shape[-1], 500, 500, 2000, 20], n_clusters=n_clusters)\n",
    "stc.from_pretrained(stc_weights)\n",
    "\n",
    "X_train.shape, X_test.shape, y_train.shape, y_test.shape"
   ]
  },
  {
   "cell_type": "code",
   "execution_count": null,
   "metadata": {},
   "outputs": [],
   "source": [
    "z2 = stc.autoencoder.encoder(X_train)"
   ]
  },
  {
   "cell_type": "code",
   "execution_count": null,
   "metadata": {},
   "outputs": [],
   "source": [
    "# comprehension list with 5 runs of kmeans, get average and std of metrics\n",
    "avg_hf_mmx_ikm2 = []\n",
    "tmp = []\n",
    "for i in range(5):\n",
    "    kmeans = KMeans(n_clusters=n_clusters, n_init=50)\n",
    "    kmeans.fit(z2.detach().numpy())\n",
    "    y_km_pred = kmeans.labels_\n",
    "    tmp.append(eval.allMetrics(y_train.detach().numpy(), y_km_pred))\n",
    "\n",
    "avg_hf_mmx_ikm2 = np.array(tmp)\n",
    "np.round(avg_hf_mmx_ikm2.mean(axis=0), 3) * 100, avg_hf_mmx_ikm2.std(axis=0)"
   ]
  },
  {
   "cell_type": "code",
   "execution_count": null,
   "metadata": {},
   "outputs": [],
   "source": [
    "kmeans = KMeans(n_clusters=n_clusters, n_init=50)\n",
    "kmeans.fit(z2.detach().numpy())\n",
    "y_km_pred2 = kmeans.labels_"
   ]
  },
  {
   "cell_type": "code",
   "execution_count": null,
   "metadata": {},
   "outputs": [],
   "source": [
    "eval.allMetrics(y_train.detach().numpy(), y_km_pred2)"
   ]
  },
  {
   "cell_type": "code",
   "execution_count": null,
   "metadata": {},
   "outputs": [],
   "source": [
    "plot.commonSpace_plot(z2.detach().numpy(), comp=[0, 1], tagLabels=y_km_pred2,\n",
    "                      data_name=\"Sof HF-embedding final Kmeans assign\", dimred = 'UMAP')"
   ]
  },
  {
   "cell_type": "code",
   "execution_count": null,
   "metadata": {},
   "outputs": [],
   "source": [
    "plot.commonSpace_plot(z2.detach().numpy(), comp=[0, 1], tagLabels=y_km_pred2,\n",
    "                      data_name=\"Sof HF-embedding final Kmeans assign\", dimred = 'TSNE')"
   ]
  },
  {
   "cell_type": "code",
   "execution_count": null,
   "metadata": {},
   "outputs": [],
   "source": []
  }
 ],
 "metadata": {
  "kernelspec": {
   "display_name": "essai",
   "language": "python",
   "name": "python3"
  },
  "language_info": {
   "codemirror_mode": {
    "name": "ipython",
    "version": 3
   },
   "file_extension": ".py",
   "mimetype": "text/x-python",
   "name": "python",
   "nbconvert_exporter": "python",
   "pygments_lexer": "ipython3",
   "version": "3.11.8"
  }
 },
 "nbformat": 4,
 "nbformat_minor": 2
}
