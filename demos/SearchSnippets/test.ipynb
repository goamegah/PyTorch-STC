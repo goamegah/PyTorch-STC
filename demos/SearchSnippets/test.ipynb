{
 "cells": [
  {
   "cell_type": "code",
   "execution_count": 1,
   "metadata": {},
   "outputs": [
    {
     "name": "stderr",
     "output_type": "stream",
     "text": [
      "[nltk_data] Downloading package punkt to /home/godwin/nltk_data...\n",
      "[nltk_data]   Package punkt is already up-to-date!\n",
      "[nltk_data] Downloading package punkt to /home/godwin/nltk_data...\n",
      "[nltk_data]   Package punkt is already up-to-date!\n"
     ]
    },
    {
     "name": "stdout",
     "output_type": "stream",
     "text": [
      ">>>>> /home/godwin/Documents/academic/PPD/torchSTC/demos/SearchSnippets\n",
      ">>>>> data_loader.py cwd:  /home/godwin/Documents/academic/PPD/torchSTC/demos/SearchSnippets\n"
     ]
    },
    {
     "name": "stderr",
     "output_type": "stream",
     "text": [
      "/home/godwin/Documents/academic/PPD/torchSTC/env/lib/python3.11/site-packages/tqdm/auto.py:21: TqdmWarning: IProgress not found. Please update jupyter and ipywidgets. See https://ipywidgets.readthedocs.io/en/stable/user_install.html\n",
      "  from .autonotebook import tqdm as notebook_tqdm\n"
     ]
    }
   ],
   "source": [
    "import sys\n",
    "from os.path import abspath\n",
    "sys.path.insert(0, abspath('..'))\n",
    "\n",
    "from os.path import join\n",
    "\n",
    "from sklearn.model_selection import train_test_split\n",
    "from sklearn.cluster import KMeans\n",
    "from sklearn import metrics\n",
    "\n",
    "import numpy as np\n",
    "\n",
    "\n",
    "import torch\n",
    "from torchSTC.data import load_data\n",
    "from torchSTC.modules import STC\n",
    "from torchSTC.metrics import SpacePlot, Evaluate\n",
    "from torchSTC.utils.cluster import SphericalKmeans\n",
    "\n",
    "from spherecluster import SphericalKMeans, VonMisesFisherMixture\n",
    "\n",
    "plot = SpacePlot()\n",
    "eval = Evaluate()"
   ]
  },
  {
   "cell_type": "code",
   "execution_count": 2,
   "metadata": {},
   "outputs": [],
   "source": [
    "cur = abspath(\"\")\n",
    "dataset = 'SearchSnippets'\n",
    "data_in_dir=join(cur, \"../..\", \"datasets\")\n",
    "dataset_dir=join(data_in_dir, dataset)"
   ]
  },
  {
   "cell_type": "code",
   "execution_count": 3,
   "metadata": {},
   "outputs": [
    {
     "data": {
      "text/plain": [
       "'/home/godwin/Documents/academic/PPD/torchSTC/demos/SearchSnippets/../../datasets/SearchSnippets/artefacts/STC-d48:2048:512:512:384-epoch30-datSearchSnippets-wdeWord2Vec-scaMinMax-tfeSIF-normNone-initKmeans/STC-datSearchSnippets-wdeWord2Vec-scaMinMax-tfeSIF-normNone-initKmeans.pth'"
      ]
     },
     "execution_count": 3,
     "metadata": {},
     "output_type": "execute_result"
    }
   ],
   "source": [
    "checkpoint_dir=join(dataset_dir, \n",
    "                    \"artefacts\",\n",
    "                    \"STC-d48:2048:512:512:384-epoch30-datSearchSnippets-wdeWord2Vec-scaMinMax-tfeSIF-normNone-initKmeans\"\n",
    "                    )\n",
    "\n",
    "checkpoint = \"STC-datSearchSnippets-wdeWord2Vec-scaMinMax-tfeSIF-normNone-initKmeans.pth\"\n",
    "checkpoint_path = join(checkpoint_dir, checkpoint)\n",
    "checkpoint_path"
   ]
  },
  {
   "cell_type": "code",
   "execution_count": 4,
   "metadata": {},
   "outputs": [
    {
     "name": "stdout",
     "output_type": "stream",
     "text": [
      "### Embedding started...\n"
     ]
    },
    {
     "name": "stdout",
     "output_type": "stream",
     "text": [
      "Word2Vec words embedding loaded...\n",
      "#### SIF embedding started...\n",
      "SIF-Embedding 12339 documents with 48-dimensional word vectors...\n",
      "SVD decomposition...\n",
      "### SIF embedding completed...\n",
      "### Embedding completed...\n",
      "[embed_docs] XX shape:  (12340, 48)\n",
      ">>> |  (12340, 48)\n",
      "MinMax scaling completed...\n",
      "l2 normalization completed...\n"
     ]
    },
    {
     "data": {
      "text/plain": [
       "(torch.Size([11106, 48]),\n",
       " torch.Size([1234, 48]),\n",
       " torch.Size([11106]),\n",
       " torch.Size([1234]))"
      ]
     },
     "execution_count": 4,
     "metadata": {},
     "output_type": "execute_result"
    }
   ],
   "source": [
    "x, y = load_data(dataset=dataset_dir, word_emb='Word2Vec', transform='SIF', scaler='MinMax', norm='l2')\n",
    "n_clusters = len(torch.unique(torch.tensor(y)))\n",
    "\n",
    "# Division des données en ensembles d'entraînement et de test\n",
    "X_train, X_test, y_train, y_test = train_test_split(x, y, test_size=0.1, random_state=0)\n",
    "\n",
    "# conversion des données en tenseurs\n",
    "X_train = torch.tensor(X_train, dtype=torch.float)\n",
    "X_test = torch.tensor(X_test, dtype=torch.float)\n",
    "y_train = torch.tensor(y_train, dtype=torch.long)\n",
    "y_test = torch.tensor(y_test, dtype=torch.long)\n",
    "\n",
    "hidden_dims = [torch.Tensor(X_train).shape[-1], 2048, 512, 512, 384]\n",
    "stc = STC(hidden_dims=hidden_dims, n_clusters=n_clusters)\n",
    "stc.from_pretrained(checkpoint_path)\n",
    "\n",
    "X_train.shape, X_test.shape, y_train.shape, y_test.shape"
   ]
  },
  {
   "cell_type": "code",
   "execution_count": 5,
   "metadata": {},
   "outputs": [],
   "source": [
    "z = stc.autoencoder.encoder(X_train)"
   ]
  },
  {
   "cell_type": "code",
   "execution_count": 6,
   "metadata": {},
   "outputs": [
    {
     "data": {
      "text/plain": [
       "(array([53.1, 36.9, 28.8]), array([0., 0., 0.]))"
      ]
     },
     "execution_count": 6,
     "metadata": {},
     "output_type": "execute_result"
    }
   ],
   "source": [
    "# comprehension list with 5 runs of kmeans, get average and std of metrics\n",
    "avg_hgf_mmx_ikm = []\n",
    "tmp = []\n",
    "for i in range(5):\n",
    "    kmeans = KMeans(n_clusters=n_clusters, n_init=50)\n",
    "    kmeans.fit(z.detach().numpy())\n",
    "    y_km_pred = kmeans.labels_\n",
    "    tmp.append(eval.allMetrics(y_train.detach().numpy(), y_km_pred))\n",
    "\n",
    "avg_hgf_mmx_ikm = np.array(tmp)\n",
    "np.round(avg_hgf_mmx_ikm.mean(axis=0), 3) * 100, avg_hgf_mmx_ikm.std(axis=0)"
   ]
  },
  {
   "cell_type": "code",
   "execution_count": 7,
   "metadata": {},
   "outputs": [
    {
     "name": "stdout",
     "output_type": "stream",
     "text": [
      "\n"
     ]
    }
   ],
   "source": [
    "vmf_soft = VonMisesFisherMixture(n_clusters=n_clusters, posterior_type='soft')\n",
    "vmf_soft.fit(z.detach().numpy())\n",
    "print()"
   ]
  },
  {
   "cell_type": "code",
   "execution_count": 8,
   "metadata": {},
   "outputs": [
    {
     "name": "stdout",
     "output_type": "stream",
     "text": [
      "weights: [0.14898777 0.10127717 0.06715479 0.11608927 0.15468218 0.11753136\n",
      " 0.14697831 0.14729916]\n",
      "concentrations: [13853.50674574 15178.15122564 25991.97559776  7301.11641314\n",
      "  7314.41932353 16301.0791993   6667.5529408  13116.36371907]\n",
      "-----------------------------\n",
      "Accuracy: 0.500\n",
      "Normalized Mutual Information: 0.356\n",
      "Adjusted Rand-Index: 0.262\n",
      "Adjusted Mututal Information: 0.355\n",
      "Normalized Mututal Information: 0.356\n"
     ]
    },
    {
     "name": "stdout",
     "output_type": "stream",
     "text": [
      "Silhouette Coefficient (euclidean): 0.216\n",
      "Silhouette Coefficient (cosine): 0.349\n",
      "Homogeneity: 0.361\n",
      "Completeness: 0.350\n",
      "V-measure: 0.356\n",
      "\n"
     ]
    }
   ],
   "source": [
    "print('weights: {}'.format(vmf_soft.weights_))\n",
    "print('concentrations: {}'.format(vmf_soft.concentrations_))\n",
    "\n",
    "print(\"-----------------------------\")\n",
    "print(\"Accuracy: %.3f\" % eval.accuracy(y_train.detach().numpy() , vmf_soft.labels_))\n",
    "print(\"Normalized Mutual Information: %.3f\" % metrics.normalized_mutual_info_score(y_train.detach().numpy(), vmf_soft.labels_))\n",
    "print(\"Adjusted Rand-Index: %.3f\"\n",
    "      % metrics.adjusted_rand_score(y_train.detach().numpy(), vmf_soft.labels_))\n",
    "print(\"Adjusted Mututal Information: %.3f\"\n",
    "      % metrics.adjusted_mutual_info_score(y_train.detach().numpy(), vmf_soft.labels_))\n",
    "print(\"Normalized Mututal Information: %.3f\"\n",
    "      % metrics.normalized_mutual_info_score(y_train.detach().numpy(), vmf_soft.labels_))\n",
    "print(\"Silhouette Coefficient (euclidean): %0.3f\"\n",
    "      % metrics.silhouette_score(z.detach().numpy() , vmf_soft.labels_, metric='euclidean'))\n",
    "print(\"Silhouette Coefficient (cosine): %0.3f\"\n",
    "      % metrics.silhouette_score(z.detach().numpy(), vmf_soft.labels_, metric='cosine'))\n",
    "print(\"Homogeneity: %0.3f\" % metrics.homogeneity_score(y_train.detach().numpy(), vmf_soft.labels_))\n",
    "print(\"Completeness: %0.3f\" % metrics.completeness_score(y_train.detach().numpy(), vmf_soft.labels_))\n",
    "print(\"V-measure: %0.3f\" % metrics.v_measure_score(y_train.detach().numpy(), vmf_soft.labels_))\n",
    "\n",
    "print()"
   ]
  },
  {
   "cell_type": "code",
   "execution_count": 9,
   "metadata": {},
   "outputs": [
    {
     "name": "stdout",
     "output_type": "stream",
     "text": [
      "Clustering with SphericalKMeans(n_init=20)\n"
     ]
    },
    {
     "ename": "TypeError",
     "evalue": "_BaseKMeans._init_centroids() missing 1 required positional argument: 'sample_weight'",
     "output_type": "error",
     "traceback": [
      "\u001b[0;31m---------------------------------------------------------------------------\u001b[0m",
      "\u001b[0;31mTypeError\u001b[0m                                 Traceback (most recent call last)",
      "Cell \u001b[0;32mIn[9], line 6\u001b[0m\n\u001b[1;32m      3\u001b[0m skm \u001b[38;5;241m=\u001b[39m SphericalKMeans(n_clusters\u001b[38;5;241m=\u001b[39mn_clusters, init\u001b[38;5;241m=\u001b[39m\u001b[38;5;124m'\u001b[39m\u001b[38;5;124mk-means++\u001b[39m\u001b[38;5;124m'\u001b[39m, n_init\u001b[38;5;241m=\u001b[39m\u001b[38;5;241m20\u001b[39m)\n\u001b[1;32m      5\u001b[0m \u001b[38;5;28mprint\u001b[39m(\u001b[38;5;124m\"\u001b[39m\u001b[38;5;124mClustering with \u001b[39m\u001b[38;5;132;01m%s\u001b[39;00m\u001b[38;5;124m\"\u001b[39m \u001b[38;5;241m%\u001b[39m skm)\n\u001b[0;32m----> 6\u001b[0m \u001b[43mskm\u001b[49m\u001b[38;5;241;43m.\u001b[39;49m\u001b[43mfit\u001b[49m\u001b[43m(\u001b[49m\u001b[43mz\u001b[49m\u001b[38;5;241;43m.\u001b[39;49m\u001b[43mdetach\u001b[49m\u001b[43m(\u001b[49m\u001b[43m)\u001b[49m\u001b[38;5;241;43m.\u001b[39;49m\u001b[43mnumpy\u001b[49m\u001b[43m(\u001b[49m\u001b[43m)\u001b[49m\u001b[43m)\u001b[49m\n\u001b[1;32m      7\u001b[0m \u001b[38;5;28mprint\u001b[39m()\n\u001b[1;32m      9\u001b[0m \u001b[38;5;28mprint\u001b[39m(\u001b[38;5;124m\"\u001b[39m\u001b[38;5;124m-----------------------------\u001b[39m\u001b[38;5;124m\"\u001b[39m)\n",
      "File \u001b[0;32m~/Documents/academic/PPD/torchSTC/env/lib/python3.11/site-packages/spherecluster/spherical_kmeans.py:355\u001b[0m, in \u001b[0;36mSphericalKMeans.fit\u001b[0;34m(self, X, y, sample_weight)\u001b[0m\n\u001b[1;32m    346\u001b[0m random_state \u001b[38;5;241m=\u001b[39m check_random_state(\u001b[38;5;28mself\u001b[39m\u001b[38;5;241m.\u001b[39mrandom_state)\n\u001b[1;32m    348\u001b[0m \u001b[38;5;66;03m# TODO: add check that all data is unit-normalized\u001b[39;00m\n\u001b[1;32m    350\u001b[0m (\n\u001b[1;32m    351\u001b[0m     \u001b[38;5;28mself\u001b[39m\u001b[38;5;241m.\u001b[39mcluster_centers_,\n\u001b[1;32m    352\u001b[0m     \u001b[38;5;28mself\u001b[39m\u001b[38;5;241m.\u001b[39mlabels_,\n\u001b[1;32m    353\u001b[0m     \u001b[38;5;28mself\u001b[39m\u001b[38;5;241m.\u001b[39minertia_,\n\u001b[1;32m    354\u001b[0m     \u001b[38;5;28mself\u001b[39m\u001b[38;5;241m.\u001b[39mn_iter_,\n\u001b[0;32m--> 355\u001b[0m ) \u001b[38;5;241m=\u001b[39m \u001b[43mspherical_k_means\u001b[49m\u001b[43m(\u001b[49m\n\u001b[1;32m    356\u001b[0m \u001b[43m    \u001b[49m\u001b[43mX\u001b[49m\u001b[43m,\u001b[49m\n\u001b[1;32m    357\u001b[0m \u001b[43m    \u001b[49m\u001b[43mn_clusters\u001b[49m\u001b[38;5;241;43m=\u001b[39;49m\u001b[38;5;28;43mself\u001b[39;49m\u001b[38;5;241;43m.\u001b[39;49m\u001b[43mn_clusters\u001b[49m\u001b[43m,\u001b[49m\n\u001b[1;32m    358\u001b[0m \u001b[43m    \u001b[49m\u001b[43msample_weight\u001b[49m\u001b[38;5;241;43m=\u001b[39;49m\u001b[43msample_weight\u001b[49m\u001b[43m,\u001b[49m\n\u001b[1;32m    359\u001b[0m \u001b[43m    \u001b[49m\u001b[43minit\u001b[49m\u001b[38;5;241;43m=\u001b[39;49m\u001b[38;5;28;43mself\u001b[39;49m\u001b[38;5;241;43m.\u001b[39;49m\u001b[43minit\u001b[49m\u001b[43m,\u001b[49m\n\u001b[1;32m    360\u001b[0m \u001b[43m    \u001b[49m\u001b[43mn_init\u001b[49m\u001b[38;5;241;43m=\u001b[39;49m\u001b[38;5;28;43mself\u001b[39;49m\u001b[38;5;241;43m.\u001b[39;49m\u001b[43mn_init\u001b[49m\u001b[43m,\u001b[49m\n\u001b[1;32m    361\u001b[0m \u001b[43m    \u001b[49m\u001b[43mmax_iter\u001b[49m\u001b[38;5;241;43m=\u001b[39;49m\u001b[38;5;28;43mself\u001b[39;49m\u001b[38;5;241;43m.\u001b[39;49m\u001b[43mmax_iter\u001b[49m\u001b[43m,\u001b[49m\n\u001b[1;32m    362\u001b[0m \u001b[43m    \u001b[49m\u001b[43mverbose\u001b[49m\u001b[38;5;241;43m=\u001b[39;49m\u001b[38;5;28;43mself\u001b[39;49m\u001b[38;5;241;43m.\u001b[39;49m\u001b[43mverbose\u001b[49m\u001b[43m,\u001b[49m\n\u001b[1;32m    363\u001b[0m \u001b[43m    \u001b[49m\u001b[43mtol\u001b[49m\u001b[38;5;241;43m=\u001b[39;49m\u001b[38;5;28;43mself\u001b[39;49m\u001b[38;5;241;43m.\u001b[39;49m\u001b[43mtol\u001b[49m\u001b[43m,\u001b[49m\n\u001b[1;32m    364\u001b[0m \u001b[43m    \u001b[49m\u001b[43mrandom_state\u001b[49m\u001b[38;5;241;43m=\u001b[39;49m\u001b[43mrandom_state\u001b[49m\u001b[43m,\u001b[49m\n\u001b[1;32m    365\u001b[0m \u001b[43m    \u001b[49m\u001b[43mcopy_x\u001b[49m\u001b[38;5;241;43m=\u001b[39;49m\u001b[38;5;28;43mself\u001b[39;49m\u001b[38;5;241;43m.\u001b[39;49m\u001b[43mcopy_x\u001b[49m\u001b[43m,\u001b[49m\n\u001b[1;32m    366\u001b[0m \u001b[43m    \u001b[49m\u001b[43mn_jobs\u001b[49m\u001b[38;5;241;43m=\u001b[39;49m\u001b[38;5;28;43mself\u001b[39;49m\u001b[38;5;241;43m.\u001b[39;49m\u001b[43mn_jobs\u001b[49m\u001b[43m,\u001b[49m\n\u001b[1;32m    367\u001b[0m \u001b[43m    \u001b[49m\u001b[43mreturn_n_iter\u001b[49m\u001b[38;5;241;43m=\u001b[39;49m\u001b[38;5;28;43;01mTrue\u001b[39;49;00m\u001b[43m,\u001b[49m\n\u001b[1;32m    368\u001b[0m \u001b[43m\u001b[49m\u001b[43m)\u001b[49m\n\u001b[1;32m    370\u001b[0m \u001b[38;5;28;01mreturn\u001b[39;00m \u001b[38;5;28mself\u001b[39m\n",
      "File \u001b[0;32m~/Documents/academic/PPD/torchSTC/env/lib/python3.11/site-packages/spherecluster/spherical_kmeans.py:179\u001b[0m, in \u001b[0;36mspherical_k_means\u001b[0;34m(X, n_clusters, sample_weight, init, n_init, max_iter, verbose, tol, random_state, copy_x, n_jobs, algorithm, return_n_iter)\u001b[0m\n\u001b[1;32m    174\u001b[0m \u001b[38;5;28;01mif\u001b[39;00m n_jobs \u001b[38;5;241m==\u001b[39m \u001b[38;5;241m1\u001b[39m:\n\u001b[1;32m    175\u001b[0m     \u001b[38;5;66;03m# For a single thread, less memory is needed if we just store one set\u001b[39;00m\n\u001b[1;32m    176\u001b[0m     \u001b[38;5;66;03m# of the best results (as opposed to one set per run per thread).\u001b[39;00m\n\u001b[1;32m    177\u001b[0m     \u001b[38;5;28;01mfor\u001b[39;00m it \u001b[38;5;129;01min\u001b[39;00m \u001b[38;5;28mrange\u001b[39m(n_init):\n\u001b[1;32m    178\u001b[0m         \u001b[38;5;66;03m# run a k-means once\u001b[39;00m\n\u001b[0;32m--> 179\u001b[0m         labels, inertia, centers, n_iter_ \u001b[38;5;241m=\u001b[39m \u001b[43m_spherical_kmeans_single_lloyd\u001b[49m\u001b[43m(\u001b[49m\n\u001b[1;32m    180\u001b[0m \u001b[43m            \u001b[49m\u001b[43mX\u001b[49m\u001b[43m,\u001b[49m\n\u001b[1;32m    181\u001b[0m \u001b[43m            \u001b[49m\u001b[43mn_clusters\u001b[49m\u001b[43m,\u001b[49m\n\u001b[1;32m    182\u001b[0m \u001b[43m            \u001b[49m\u001b[43msample_weight\u001b[49m\u001b[43m,\u001b[49m\n\u001b[1;32m    183\u001b[0m \u001b[43m            \u001b[49m\u001b[43mmax_iter\u001b[49m\u001b[38;5;241;43m=\u001b[39;49m\u001b[43mmax_iter\u001b[49m\u001b[43m,\u001b[49m\n\u001b[1;32m    184\u001b[0m \u001b[43m            \u001b[49m\u001b[43minit\u001b[49m\u001b[38;5;241;43m=\u001b[39;49m\u001b[43minit\u001b[49m\u001b[43m,\u001b[49m\n\u001b[1;32m    185\u001b[0m \u001b[43m            \u001b[49m\u001b[43mverbose\u001b[49m\u001b[38;5;241;43m=\u001b[39;49m\u001b[43mverbose\u001b[49m\u001b[43m,\u001b[49m\n\u001b[1;32m    186\u001b[0m \u001b[43m            \u001b[49m\u001b[43mtol\u001b[49m\u001b[38;5;241;43m=\u001b[39;49m\u001b[43mtol\u001b[49m\u001b[43m,\u001b[49m\n\u001b[1;32m    187\u001b[0m \u001b[43m            \u001b[49m\u001b[43mx_squared_norms\u001b[49m\u001b[38;5;241;43m=\u001b[39;49m\u001b[43mx_squared_norms\u001b[49m\u001b[43m,\u001b[49m\n\u001b[1;32m    188\u001b[0m \u001b[43m            \u001b[49m\u001b[43mrandom_state\u001b[49m\u001b[38;5;241;43m=\u001b[39;49m\u001b[43mrandom_state\u001b[49m\u001b[43m,\u001b[49m\n\u001b[1;32m    189\u001b[0m \u001b[43m        \u001b[49m\u001b[43m)\u001b[49m\n\u001b[1;32m    191\u001b[0m         \u001b[38;5;66;03m# determine if these results are the best so far\u001b[39;00m\n\u001b[1;32m    192\u001b[0m         \u001b[38;5;28;01mif\u001b[39;00m best_inertia \u001b[38;5;129;01mis\u001b[39;00m \u001b[38;5;28;01mNone\u001b[39;00m \u001b[38;5;129;01mor\u001b[39;00m inertia \u001b[38;5;241m<\u001b[39m best_inertia:\n",
      "File \u001b[0;32m~/Documents/academic/PPD/torchSTC/env/lib/python3.11/site-packages/spherecluster/spherical_kmeans.py:40\u001b[0m, in \u001b[0;36m_spherical_kmeans_single_lloyd\u001b[0;34m(X, n_clusters, sample_weight, max_iter, init, verbose, x_squared_norms, random_state, tol, precompute_distances)\u001b[0m\n\u001b[1;32m     37\u001b[0m best_labels, best_inertia, best_centers \u001b[38;5;241m=\u001b[39m \u001b[38;5;28;01mNone\u001b[39;00m, \u001b[38;5;28;01mNone\u001b[39;00m, \u001b[38;5;28;01mNone\u001b[39;00m\n\u001b[1;32m     39\u001b[0m \u001b[38;5;66;03m# init\u001b[39;00m\n\u001b[0;32m---> 40\u001b[0m centers \u001b[38;5;241m=\u001b[39m \u001b[43m_init_centroids\u001b[49m\u001b[43m(\u001b[49m\n\u001b[1;32m     41\u001b[0m \u001b[43m    \u001b[49m\u001b[43mX\u001b[49m\u001b[43m,\u001b[49m\u001b[43m \u001b[49m\u001b[43mn_clusters\u001b[49m\u001b[43m,\u001b[49m\u001b[43m \u001b[49m\u001b[43minit\u001b[49m\u001b[43m,\u001b[49m\u001b[43m \u001b[49m\u001b[43mrandom_state\u001b[49m\u001b[38;5;241;43m=\u001b[39;49m\u001b[43mrandom_state\u001b[49m\u001b[43m,\u001b[49m\u001b[43m \u001b[49m\u001b[43mx_squared_norms\u001b[49m\u001b[38;5;241;43m=\u001b[39;49m\u001b[43mx_squared_norms\u001b[49m\n\u001b[1;32m     42\u001b[0m \u001b[43m\u001b[49m\u001b[43m)\u001b[49m\n\u001b[1;32m     43\u001b[0m \u001b[38;5;28;01mif\u001b[39;00m verbose:\n\u001b[1;32m     44\u001b[0m     \u001b[38;5;28mprint\u001b[39m(\u001b[38;5;124m\"\u001b[39m\u001b[38;5;124mInitialization complete\u001b[39m\u001b[38;5;124m\"\u001b[39m)\n",
      "File \u001b[0;32m~/Documents/academic/PPD/torchSTC/env/lib/python3.11/site-packages/spherecluster/legacy.py:67\u001b[0m, in \u001b[0;36m_init_centroids\u001b[0;34m(X, n_clusters, init, random_state, x_squared_norms)\u001b[0m\n\u001b[1;32m     65\u001b[0m \u001b[38;5;250m\u001b[39m\u001b[38;5;124;03m\"\"\"Compute the initial centroids.\"\"\"\u001b[39;00m\n\u001b[1;32m     66\u001b[0m inst \u001b[38;5;241m=\u001b[39m KMeans(n_clusters)\n\u001b[0;32m---> 67\u001b[0m \u001b[38;5;28;01mreturn\u001b[39;00m \u001b[43minst\u001b[49m\u001b[38;5;241;43m.\u001b[39;49m\u001b[43m_init_centroids\u001b[49m\u001b[43m(\u001b[49m\u001b[43mX\u001b[49m\u001b[43m,\u001b[49m\u001b[43m \u001b[49m\u001b[43mx_squared_norms\u001b[49m\u001b[43m,\u001b[49m\u001b[43m \u001b[49m\u001b[43minit\u001b[49m\u001b[43m,\u001b[49m\u001b[43m \u001b[49m\u001b[43mrandom_state\u001b[49m\u001b[43m)\u001b[49m\n",
      "\u001b[0;31mTypeError\u001b[0m: _BaseKMeans._init_centroids() missing 1 required positional argument: 'sample_weight'"
     ]
    }
   ],
   "source": [
    "###############################################################################\n",
    "# Spherical K-Means clustering\n",
    "skm = SphericalKMeans(n_clusters=n_clusters, n_init=20)\n",
    "\n",
    "print(\"Clustering with %s\" % skm)\n",
    "skm.fit(z.detach().numpy())\n",
    "print()\n",
    "\n",
    "print(\"-----------------------------\")\n",
    "print(\"Accuracy: %.3f\" % eval.accuracy(y_train.detach().numpy(), skm.labels_))\n",
    "print(\"Normalized Mutual Information: %.3f\" % metrics.normalized_mutual_info_score(y_train.detach().numpy(), skm.labels_))\n",
    "print(\"Adjusted Rand-Index: %.3f\"\n",
    "      % metrics.adjusted_rand_score(y_train.detach().numpy(), skm.labels_))\n",
    "print(\"Adjusted Mututal Information: %.3f\"\n",
    "      % metrics.adjusted_mutual_info_score(y_train.detach().numpy(), skm.labels_))\n",
    "print(\"Normalized Mututal Information: %.3f\"\n",
    "      % metrics.normalized_mutual_info_score(y_train.detach().numpy(), skm.labels_))\n",
    "print(\"Silhouette Coefficient (euclidean): %0.3f\"\n",
    "      % metrics.silhouette_score(z.detach().numpy(), skm.labels_, metric='euclidean'))\n",
    "print(\"Silhouette Coefficient (cosine): %0.3f\"\n",
    "      % metrics.silhouette_score(z.detach().numpy(), skm.labels_, metric='cosine'))\n",
    "print(\"Homogeneity: %0.3f\" % metrics.homogeneity_score(y_train.detach().numpy(), skm.labels_))\n",
    "print(\"Completeness: %0.3f\" % metrics.completeness_score(y_train.detach().numpy(), skm.labels_))\n",
    "print(\"V-measure: %0.3f\" % metrics.v_measure_score(y_train.detach().numpy(), skm.labels_))\n",
    "\n",
    "print()"
   ]
  },
  {
   "cell_type": "code",
   "execution_count": null,
   "metadata": {},
   "outputs": [],
   "source": []
  }
 ],
 "metadata": {
  "kernelspec": {
   "display_name": "env",
   "language": "python",
   "name": "python3"
  },
  "language_info": {
   "codemirror_mode": {
    "name": "ipython",
    "version": 3
   },
   "file_extension": ".py",
   "mimetype": "text/x-python",
   "name": "python",
   "nbconvert_exporter": "python",
   "pygments_lexer": "ipython3",
   "version": "3.11.8"
  }
 },
 "nbformat": 4,
 "nbformat_minor": 2
}
