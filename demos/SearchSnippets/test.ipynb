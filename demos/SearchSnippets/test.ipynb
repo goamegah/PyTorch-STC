{
 "cells": [
  {
   "cell_type": "code",
   "execution_count": 1,
   "metadata": {},
   "outputs": [
    {
     "name": "stderr",
     "output_type": "stream",
     "text": [
      "[nltk_data] Downloading package punkt to /home/godwin/nltk_data...\n",
      "[nltk_data]   Package punkt is already up-to-date!\n",
      "[nltk_data] Downloading package punkt to /home/godwin/nltk_data...\n",
      "[nltk_data]   Package punkt is already up-to-date!\n"
     ]
    },
    {
     "name": "stdout",
     "output_type": "stream",
     "text": [
      ">>>>> /home/godwin/Documents/academic/PPD/torchSTC/demos/SearchSnippets\n",
      ">>>>> data_loader.py cwd:  /home/godwin/Documents/academic/PPD/torchSTC/demos/SearchSnippets\n"
     ]
    },
    {
     "name": "stderr",
     "output_type": "stream",
     "text": [
      "/home/godwin/Documents/academic/PPD/torchSTC/env/lib/python3.11/site-packages/tqdm/auto.py:21: TqdmWarning: IProgress not found. Please update jupyter and ipywidgets. See https://ipywidgets.readthedocs.io/en/stable/user_install.html\n",
      "  from .autonotebook import tqdm as notebook_tqdm\n"
     ]
    }
   ],
   "source": [
    "import sys\n",
    "from os.path import abspath\n",
    "sys.path.insert(0, abspath('..'))\n",
    "\n",
    "from os.path import join\n",
    "\n",
    "from sklearn.model_selection import train_test_split\n",
    "from sklearn.cluster import KMeans\n",
    "from sklearn import metrics\n",
    "\n",
    "import numpy as np\n",
    "\n",
    "\n",
    "import torch\n",
    "from torchSTC.data import load_data\n",
    "from torchSTC.modules import STC\n",
    "from torchSTC.metrics import SpacePlot, Evaluate\n",
    "from torchSTC.utils.cluster import SphericalKmeans\n",
    "\n",
    "from spherecluster import SphericalKMeans, VonMisesFisherMixture\n",
    "\n",
    "plot = SpacePlot()\n",
    "eval = Evaluate()"
   ]
  },
  {
   "cell_type": "code",
   "execution_count": 2,
   "metadata": {},
   "outputs": [],
   "source": [
    "cur = abspath(\"\")\n",
    "dataset = 'SearchSnippets'\n",
    "data_in_dir=join(cur, \"../..\", \"datasets\")\n",
    "dataset_dir=join(data_in_dir, dataset)"
   ]
  },
  {
   "cell_type": "code",
   "execution_count": 3,
   "metadata": {},
   "outputs": [
    {
     "data": {
      "text/plain": [
       "'/home/godwin/Documents/academic/PPD/torchSTC/demos/SearchSnippets/../../datasets/SearchSnippets/artefacts/STC-d48:2048:512:512:384-epoch30-datSearchSnippets-wdeWord2Vec-scaMinMax-tfeSIF-normNone-initKmeans/STC-datSearchSnippets-wdeWord2Vec-scaMinMax-tfeSIF-normNone-initKmeans.pth'"
      ]
     },
     "execution_count": 3,
     "metadata": {},
     "output_type": "execute_result"
    }
   ],
   "source": [
    "checkpoint_dir=join(dataset_dir, \n",
    "                    \"artefacts\",\n",
    "                    \"STC-d48:2048:512:512:384-epoch30-datSearchSnippets-wdeWord2Vec-scaMinMax-tfeSIF-normNone-initKmeans\"\n",
    "                    )\n",
    "\n",
    "checkpoint = \"STC-datSearchSnippets-wdeWord2Vec-scaMinMax-tfeSIF-normNone-initKmeans.pth\"\n",
    "checkpoint_path = join(checkpoint_dir, checkpoint)\n",
    "checkpoint_path"
   ]
  },
  {
   "cell_type": "code",
   "execution_count": 4,
   "metadata": {},
   "outputs": [
    {
     "name": "stdout",
     "output_type": "stream",
     "text": [
      "### Embedding started...\n"
     ]
    },
    {
     "name": "stdout",
     "output_type": "stream",
     "text": [
      "Word2Vec words embedding loaded...\n",
      "#### SIF embedding started...\n",
      "SIF-Embedding 12339 documents with 48-dimensional word vectors...\n",
      "SVD decomposition...\n",
      "### SIF embedding completed...\n",
      "### Embedding completed...\n",
      "[embed_docs] XX shape:  (12340, 48)\n",
      ">>> |  (12340, 48)\n",
      "MinMax scaling completed...\n",
      "l2 normalization completed...\n"
     ]
    },
    {
     "ename": "FileNotFoundError",
     "evalue": "[Errno 2] No such file or directory: '/home/godwin/Documents/academic/PPD/torchSTC/demos/SearchSnippets/../../datasets/SearchSnippets/artefacts/STC-d48:2048:512:512:384-epoch30-datSearchSnippets-wdeWord2Vec-scaMinMax-tfeSIF-normNone-initKmeans/STC-datSearchSnippets-wdeWord2Vec-scaMinMax-tfeSIF-normNone-initKmeans.pth'",
     "output_type": "error",
     "traceback": [
      "\u001b[0;31m---------------------------------------------------------------------------\u001b[0m",
      "\u001b[0;31mFileNotFoundError\u001b[0m                         Traceback (most recent call last)",
      "Cell \u001b[0;32mIn[4], line 15\u001b[0m\n\u001b[1;32m     13\u001b[0m hidden_dims \u001b[38;5;241m=\u001b[39m [torch\u001b[38;5;241m.\u001b[39mTensor(X_train)\u001b[38;5;241m.\u001b[39mshape[\u001b[38;5;241m-\u001b[39m\u001b[38;5;241m1\u001b[39m], \u001b[38;5;241m2048\u001b[39m, \u001b[38;5;241m512\u001b[39m, \u001b[38;5;241m512\u001b[39m, \u001b[38;5;241m384\u001b[39m]\n\u001b[1;32m     14\u001b[0m stc \u001b[38;5;241m=\u001b[39m STC(hidden_dims\u001b[38;5;241m=\u001b[39mhidden_dims, n_clusters\u001b[38;5;241m=\u001b[39mn_clusters)\n\u001b[0;32m---> 15\u001b[0m \u001b[43mstc\u001b[49m\u001b[38;5;241;43m.\u001b[39;49m\u001b[43mfrom_pretrained\u001b[49m\u001b[43m(\u001b[49m\u001b[43mcheckpoint_path\u001b[49m\u001b[43m)\u001b[49m\n\u001b[1;32m     17\u001b[0m X_train\u001b[38;5;241m.\u001b[39mshape, X_test\u001b[38;5;241m.\u001b[39mshape, y_train\u001b[38;5;241m.\u001b[39mshape, y_test\u001b[38;5;241m.\u001b[39mshape\n",
      "File \u001b[0;32m~/Documents/academic/PPD/torchSTC/torchSTC/modules/stc.py:37\u001b[0m, in \u001b[0;36mSTC.from_pretrained\u001b[0;34m(self, path)\u001b[0m\n\u001b[1;32m     36\u001b[0m \u001b[38;5;28;01mdef\u001b[39;00m \u001b[38;5;21mfrom_pretrained\u001b[39m(\u001b[38;5;28mself\u001b[39m, path: \u001b[38;5;28mstr\u001b[39m) \u001b[38;5;241m-\u001b[39m\u001b[38;5;241m>\u001b[39m \u001b[38;5;28;01mNone\u001b[39;00m:\n\u001b[0;32m---> 37\u001b[0m     \u001b[38;5;28mself\u001b[39m\u001b[38;5;241m.\u001b[39mload_state_dict(\u001b[43mtorch\u001b[49m\u001b[38;5;241;43m.\u001b[39;49m\u001b[43mload\u001b[49m\u001b[43m(\u001b[49m\u001b[43mpath\u001b[49m\u001b[43m)\u001b[49m)\n",
      "File \u001b[0;32m~/Documents/academic/PPD/torchSTC/env/lib/python3.11/site-packages/torch/serialization.py:998\u001b[0m, in \u001b[0;36mload\u001b[0;34m(f, map_location, pickle_module, weights_only, mmap, **pickle_load_args)\u001b[0m\n\u001b[1;32m    995\u001b[0m \u001b[38;5;28;01mif\u001b[39;00m \u001b[38;5;124m'\u001b[39m\u001b[38;5;124mencoding\u001b[39m\u001b[38;5;124m'\u001b[39m \u001b[38;5;129;01mnot\u001b[39;00m \u001b[38;5;129;01min\u001b[39;00m pickle_load_args\u001b[38;5;241m.\u001b[39mkeys():\n\u001b[1;32m    996\u001b[0m     pickle_load_args[\u001b[38;5;124m'\u001b[39m\u001b[38;5;124mencoding\u001b[39m\u001b[38;5;124m'\u001b[39m] \u001b[38;5;241m=\u001b[39m \u001b[38;5;124m'\u001b[39m\u001b[38;5;124mutf-8\u001b[39m\u001b[38;5;124m'\u001b[39m\n\u001b[0;32m--> 998\u001b[0m \u001b[38;5;28;01mwith\u001b[39;00m \u001b[43m_open_file_like\u001b[49m\u001b[43m(\u001b[49m\u001b[43mf\u001b[49m\u001b[43m,\u001b[49m\u001b[43m \u001b[49m\u001b[38;5;124;43m'\u001b[39;49m\u001b[38;5;124;43mrb\u001b[39;49m\u001b[38;5;124;43m'\u001b[39;49m\u001b[43m)\u001b[49m \u001b[38;5;28;01mas\u001b[39;00m opened_file:\n\u001b[1;32m    999\u001b[0m     \u001b[38;5;28;01mif\u001b[39;00m _is_zipfile(opened_file):\n\u001b[1;32m   1000\u001b[0m         \u001b[38;5;66;03m# The zipfile reader is going to advance the current file position.\u001b[39;00m\n\u001b[1;32m   1001\u001b[0m         \u001b[38;5;66;03m# If we want to actually tail call to torch.jit.load, we need to\u001b[39;00m\n\u001b[1;32m   1002\u001b[0m         \u001b[38;5;66;03m# reset back to the original position.\u001b[39;00m\n\u001b[1;32m   1003\u001b[0m         orig_position \u001b[38;5;241m=\u001b[39m opened_file\u001b[38;5;241m.\u001b[39mtell()\n",
      "File \u001b[0;32m~/Documents/academic/PPD/torchSTC/env/lib/python3.11/site-packages/torch/serialization.py:445\u001b[0m, in \u001b[0;36m_open_file_like\u001b[0;34m(name_or_buffer, mode)\u001b[0m\n\u001b[1;32m    443\u001b[0m \u001b[38;5;28;01mdef\u001b[39;00m \u001b[38;5;21m_open_file_like\u001b[39m(name_or_buffer, mode):\n\u001b[1;32m    444\u001b[0m     \u001b[38;5;28;01mif\u001b[39;00m _is_path(name_or_buffer):\n\u001b[0;32m--> 445\u001b[0m         \u001b[38;5;28;01mreturn\u001b[39;00m \u001b[43m_open_file\u001b[49m\u001b[43m(\u001b[49m\u001b[43mname_or_buffer\u001b[49m\u001b[43m,\u001b[49m\u001b[43m \u001b[49m\u001b[43mmode\u001b[49m\u001b[43m)\u001b[49m\n\u001b[1;32m    446\u001b[0m     \u001b[38;5;28;01melse\u001b[39;00m:\n\u001b[1;32m    447\u001b[0m         \u001b[38;5;28;01mif\u001b[39;00m \u001b[38;5;124m'\u001b[39m\u001b[38;5;124mw\u001b[39m\u001b[38;5;124m'\u001b[39m \u001b[38;5;129;01min\u001b[39;00m mode:\n",
      "File \u001b[0;32m~/Documents/academic/PPD/torchSTC/env/lib/python3.11/site-packages/torch/serialization.py:426\u001b[0m, in \u001b[0;36m_open_file.__init__\u001b[0;34m(self, name, mode)\u001b[0m\n\u001b[1;32m    425\u001b[0m \u001b[38;5;28;01mdef\u001b[39;00m \u001b[38;5;21m__init__\u001b[39m(\u001b[38;5;28mself\u001b[39m, name, mode):\n\u001b[0;32m--> 426\u001b[0m     \u001b[38;5;28msuper\u001b[39m()\u001b[38;5;241m.\u001b[39m\u001b[38;5;21m__init__\u001b[39m(\u001b[38;5;28;43mopen\u001b[39;49m\u001b[43m(\u001b[49m\u001b[43mname\u001b[49m\u001b[43m,\u001b[49m\u001b[43m \u001b[49m\u001b[43mmode\u001b[49m\u001b[43m)\u001b[49m)\n",
      "\u001b[0;31mFileNotFoundError\u001b[0m: [Errno 2] No such file or directory: '/home/godwin/Documents/academic/PPD/torchSTC/demos/SearchSnippets/../../datasets/SearchSnippets/artefacts/STC-d48:2048:512:512:384-epoch30-datSearchSnippets-wdeWord2Vec-scaMinMax-tfeSIF-normNone-initKmeans/STC-datSearchSnippets-wdeWord2Vec-scaMinMax-tfeSIF-normNone-initKmeans.pth'"
     ]
    }
   ],
   "source": [
    "x, y = load_data(dataset=dataset_dir, word_emb='Word2Vec', transform='SIF', scaler='MinMax', norm='l2')\n",
    "n_clusters = len(torch.unique(torch.tensor(y)))\n",
    "\n",
    "# Division des données en ensembles d'entraînement et de test\n",
    "X_train, X_test, y_train, y_test = train_test_split(x, y, test_size=0.1, random_state=0)\n",
    "\n",
    "# conversion des données en tenseurs\n",
    "X_train = torch.tensor(X_train, dtype=torch.float)\n",
    "X_test = torch.tensor(X_test, dtype=torch.float)\n",
    "y_train = torch.tensor(y_train, dtype=torch.long)\n",
    "y_test = torch.tensor(y_test, dtype=torch.long)\n",
    "\n",
    "hidden_dims = [torch.Tensor(X_train).shape[-1], 2048, 512, 512, 384]\n",
    "stc = STC(hidden_dims=hidden_dims, n_clusters=n_clusters)\n",
    "stc.from_pretrained(checkpoint_path)\n",
    "\n",
    "X_train.shape, X_test.shape, y_train.shape, y_test.shape"
   ]
  },
  {
   "cell_type": "code",
   "execution_count": null,
   "metadata": {},
   "outputs": [],
   "source": [
    "z = stc.autoencoder.encoder(X_train)"
   ]
  },
  {
   "cell_type": "code",
   "execution_count": 6,
   "metadata": {},
   "outputs": [
    {
     "data": {
      "text/plain": [
       "(array([53.1, 36.9, 28.8]), array([0., 0., 0.]))"
      ]
     },
     "execution_count": 6,
     "metadata": {},
     "output_type": "execute_result"
    }
   ],
   "source": [
    "# comprehension list with 5 runs of kmeans, get average and std of metrics\n",
    "avg_hgf_mmx_ikm = []\n",
    "tmp = []\n",
    "for i in range(5):\n",
    "    kmeans = KMeans(n_clusters=n_clusters, n_init=50)\n",
    "    kmeans.fit(z.detach().numpy())\n",
    "    y_km_pred = kmeans.labels_\n",
    "    tmp.append(eval.allMetrics(y_train.detach().numpy(), y_km_pred))\n",
    "\n",
    "avg_hgf_mmx_ikm = np.array(tmp)\n",
    "np.round(avg_hgf_mmx_ikm.mean(axis=0), 3) * 100, avg_hgf_mmx_ikm.std(axis=0)"
   ]
  },
  {
   "cell_type": "code",
   "execution_count": 7,
   "metadata": {},
   "outputs": [
    {
     "name": "stdout",
     "output_type": "stream",
     "text": [
      "\n"
     ]
    }
   ],
   "source": [
    "vmf_soft = VonMisesFisherMixture(n_clusters=n_clusters, posterior_type='soft')\n",
    "vmf_soft.fit(z.detach().numpy())\n",
    "print()"
   ]
  },
  {
   "cell_type": "code",
   "execution_count": 8,
   "metadata": {},
   "outputs": [
    {
     "name": "stdout",
     "output_type": "stream",
     "text": [
      "weights: [0.14898777 0.10127717 0.06715479 0.11608927 0.15468218 0.11753136\n",
      " 0.14697831 0.14729916]\n",
      "concentrations: [13853.50674574 15178.15122564 25991.97559776  7301.11641314\n",
      "  7314.41932353 16301.0791993   6667.5529408  13116.36371907]\n",
      "-----------------------------\n",
      "Accuracy: 0.500\n",
      "Normalized Mutual Information: 0.356\n",
      "Adjusted Rand-Index: 0.262\n",
      "Adjusted Mututal Information: 0.355\n",
      "Normalized Mututal Information: 0.356\n"
     ]
    },
    {
     "name": "stdout",
     "output_type": "stream",
     "text": [
      "Silhouette Coefficient (euclidean): 0.216\n",
      "Silhouette Coefficient (cosine): 0.349\n",
      "Homogeneity: 0.361\n",
      "Completeness: 0.350\n",
      "V-measure: 0.356\n",
      "\n"
     ]
    }
   ],
   "source": [
    "print('weights: {}'.format(vmf_soft.weights_))\n",
    "print('concentrations: {}'.format(vmf_soft.concentrations_))\n",
    "\n",
    "print(\"-----------------------------\")\n",
    "print(\"Accuracy: %.3f\" % eval.accuracy(y_train.detach().numpy() , vmf_soft.labels_))\n",
    "print(\"Normalized Mutual Information: %.3f\" % metrics.normalized_mutual_info_score(y_train.detach().numpy(), vmf_soft.labels_))\n",
    "print(\"Adjusted Rand-Index: %.3f\"\n",
    "      % metrics.adjusted_rand_score(y_train.detach().numpy(), vmf_soft.labels_))\n",
    "print(\"Adjusted Mututal Information: %.3f\"\n",
    "      % metrics.adjusted_mutual_info_score(y_train.detach().numpy(), vmf_soft.labels_))\n",
    "print(\"Normalized Mututal Information: %.3f\"\n",
    "      % metrics.normalized_mutual_info_score(y_train.detach().numpy(), vmf_soft.labels_))\n",
    "print(\"Silhouette Coefficient (euclidean): %0.3f\"\n",
    "      % metrics.silhouette_score(z.detach().numpy() , vmf_soft.labels_, metric='euclidean'))\n",
    "print(\"Silhouette Coefficient (cosine): %0.3f\"\n",
    "      % metrics.silhouette_score(z.detach().numpy(), vmf_soft.labels_, metric='cosine'))\n",
    "print(\"Homogeneity: %0.3f\" % metrics.homogeneity_score(y_train.detach().numpy(), vmf_soft.labels_))\n",
    "print(\"Completeness: %0.3f\" % metrics.completeness_score(y_train.detach().numpy(), vmf_soft.labels_))\n",
    "print(\"V-measure: %0.3f\" % metrics.v_measure_score(y_train.detach().numpy(), vmf_soft.labels_))\n",
    "\n",
    "print()"
   ]
  },
  {
   "cell_type": "code",
   "execution_count": 5,
   "metadata": {},
   "outputs": [
    {
     "name": "stdout",
     "output_type": "stream",
     "text": [
      "Clustering with SphericalKMeans(n_init=20)\n"
     ]
    },
    {
     "ename": "NameError",
     "evalue": "name 'z' is not defined",
     "output_type": "error",
     "traceback": [
      "\u001b[0;31m---------------------------------------------------------------------------\u001b[0m",
      "\u001b[0;31mNameError\u001b[0m                                 Traceback (most recent call last)",
      "Cell \u001b[0;32mIn[5], line 6\u001b[0m\n\u001b[1;32m      3\u001b[0m skm \u001b[38;5;241m=\u001b[39m SphericalKMeans(n_clusters\u001b[38;5;241m=\u001b[39mn_clusters, n_init\u001b[38;5;241m=\u001b[39m\u001b[38;5;241m20\u001b[39m)\n\u001b[1;32m      5\u001b[0m \u001b[38;5;28mprint\u001b[39m(\u001b[38;5;124m\"\u001b[39m\u001b[38;5;124mClustering with \u001b[39m\u001b[38;5;132;01m%s\u001b[39;00m\u001b[38;5;124m\"\u001b[39m \u001b[38;5;241m%\u001b[39m skm)\n\u001b[0;32m----> 6\u001b[0m skm\u001b[38;5;241m.\u001b[39mfit(\u001b[43mz\u001b[49m\u001b[38;5;241m.\u001b[39mdetach()\u001b[38;5;241m.\u001b[39mnumpy())\n\u001b[1;32m      7\u001b[0m \u001b[38;5;28mprint\u001b[39m()\n\u001b[1;32m      9\u001b[0m \u001b[38;5;28mprint\u001b[39m(\u001b[38;5;124m\"\u001b[39m\u001b[38;5;124m-----------------------------\u001b[39m\u001b[38;5;124m\"\u001b[39m)\n",
      "\u001b[0;31mNameError\u001b[0m: name 'z' is not defined"
     ]
    }
   ],
   "source": [
    "###############################################################################\n",
    "# Spherical K-Means clustering\n",
    "skm = SphericalKMeans(n_clusters=n_clusters, n_init=20)\n",
    "\n",
    "print(\"Clustering with %s\" % skm)\n",
    "skm.fit(z.detach().numpy())\n",
    "print()\n",
    "\n",
    "print(\"-----------------------------\")\n",
    "print(\"Accuracy: %.3f\" % eval.accuracy(y_train.detach().numpy(), skm.labels_))\n",
    "print(\"Normalized Mutual Information: %.3f\" % metrics.normalized_mutual_info_score(y_train.detach().numpy(), skm.labels_))\n",
    "print(\"Adjusted Rand-Index: %.3f\"\n",
    "      % metrics.adjusted_rand_score(y_train.detach().numpy(), skm.labels_))\n",
    "print(\"Adjusted Mututal Information: %.3f\"\n",
    "      % metrics.adjusted_mutual_info_score(y_train.detach().numpy(), skm.labels_))\n",
    "print(\"Normalized Mututal Information: %.3f\"\n",
    "      % metrics.normalized_mutual_info_score(y_train.detach().numpy(), skm.labels_))\n",
    "print(\"Silhouette Coefficient (euclidean): %0.3f\"\n",
    "      % metrics.silhouette_score(z.detach().numpy(), skm.labels_, metric='euclidean'))\n",
    "print(\"Silhouette Coefficient (cosine): %0.3f\"\n",
    "      % metrics.silhouette_score(z.detach().numpy(), skm.labels_, metric='cosine'))\n",
    "print(\"Homogeneity: %0.3f\" % metrics.homogeneity_score(y_train.detach().numpy(), skm.labels_))\n",
    "print(\"Completeness: %0.3f\" % metrics.completeness_score(y_train.detach().numpy(), skm.labels_))\n",
    "print(\"V-measure: %0.3f\" % metrics.v_measure_score(y_train.detach().numpy(), skm.labels_))\n",
    "\n",
    "print()"
   ]
  },
  {
   "cell_type": "code",
   "execution_count": null,
   "metadata": {},
   "outputs": [],
   "source": []
  }
 ],
 "metadata": {
  "kernelspec": {
   "display_name": "env",
   "language": "python",
   "name": "python3"
  },
  "language_info": {
   "codemirror_mode": {
    "name": "ipython",
    "version": 3
   },
   "file_extension": ".py",
   "mimetype": "text/x-python",
   "name": "python",
   "nbconvert_exporter": "python",
   "pygments_lexer": "ipython3",
   "version": "3.11.8"
  }
 },
 "nbformat": 4,
 "nbformat_minor": 2
}
