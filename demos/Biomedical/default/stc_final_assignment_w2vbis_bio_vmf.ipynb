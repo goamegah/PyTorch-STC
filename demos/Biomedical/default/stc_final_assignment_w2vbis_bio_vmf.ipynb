{
 "cells": [
  {
   "cell_type": "code",
   "execution_count": 4,
   "metadata": {},
   "outputs": [
    {
     "ename": "ImportError",
     "evalue": "cannot import name '_tolerance' from 'spherecluster.regacy' (/home/godwin/Documents/academic/PPD/torchSTC/stc2/lib/python3.11/site-packages/spherecluster/regacy.py)",
     "output_type": "error",
     "traceback": [
      "\u001b[0;31m---------------------------------------------------------------------------\u001b[0m",
      "\u001b[0;31mImportError\u001b[0m                               Traceback (most recent call last)",
      "Cell \u001b[0;32mIn[4], line 10\u001b[0m\n\u001b[1;32m      8\u001b[0m \u001b[38;5;28;01mfrom\u001b[39;00m \u001b[38;5;21;01msklearn\u001b[39;00m\u001b[38;5;21;01m.\u001b[39;00m\u001b[38;5;21;01mmodel_selection\u001b[39;00m \u001b[38;5;28;01mimport\u001b[39;00m train_test_split\n\u001b[1;32m      9\u001b[0m \u001b[38;5;28;01mfrom\u001b[39;00m \u001b[38;5;21;01msklearn\u001b[39;00m\u001b[38;5;21;01m.\u001b[39;00m\u001b[38;5;21;01mcluster\u001b[39;00m \u001b[38;5;28;01mimport\u001b[39;00m KMeans\n\u001b[0;32m---> 10\u001b[0m \u001b[38;5;28;01mfrom\u001b[39;00m \u001b[38;5;21;01mspherecluster\u001b[39;00m \u001b[38;5;28;01mimport\u001b[39;00m VonMisesFisherMixture\n\u001b[1;32m     12\u001b[0m \u001b[38;5;28;01mimport\u001b[39;00m \u001b[38;5;21;01mtorch\u001b[39;00m\n\u001b[1;32m     13\u001b[0m \u001b[38;5;28;01mfrom\u001b[39;00m \u001b[38;5;21;01mtorchSTC\u001b[39;00m\u001b[38;5;21;01m.\u001b[39;00m\u001b[38;5;21;01mdata\u001b[39;00m \u001b[38;5;28;01mimport\u001b[39;00m load_data\n",
      "File \u001b[0;32m~/Documents/academic/PPD/torchSTC/stc2/lib/python3.11/site-packages/spherecluster/__init__.py:3\u001b[0m\n\u001b[1;32m      1\u001b[0m \u001b[38;5;28;01mfrom\u001b[39;00m \u001b[38;5;21;01m__future__\u001b[39;00m \u001b[38;5;28;01mimport\u001b[39;00m absolute_import\n\u001b[0;32m----> 3\u001b[0m \u001b[38;5;28;01mfrom\u001b[39;00m \u001b[38;5;21;01m.\u001b[39;00m\u001b[38;5;21;01mspherical_kmeans\u001b[39;00m \u001b[38;5;28;01mimport\u001b[39;00m SphericalKMeans\n\u001b[1;32m      4\u001b[0m \u001b[38;5;28;01mfrom\u001b[39;00m \u001b[38;5;21;01m.\u001b[39;00m\u001b[38;5;21;01mutil\u001b[39;00m \u001b[38;5;28;01mimport\u001b[39;00m sample_vMF\n\u001b[1;32m      5\u001b[0m \u001b[38;5;28;01mfrom\u001b[39;00m \u001b[38;5;21;01m.\u001b[39;00m\u001b[38;5;21;01mvon_mises_fisher_mixture\u001b[39;00m \u001b[38;5;28;01mimport\u001b[39;00m VonMisesFisherMixture\n",
      "File \u001b[0;32m~/Documents/academic/PPD/torchSTC/stc2/lib/python3.11/site-packages/spherecluster/spherical_kmeans.py:15\u001b[0m\n\u001b[1;32m     12\u001b[0m \u001b[38;5;28;01mfrom\u001b[39;00m \u001b[38;5;21;01msklearn\u001b[39;00m\u001b[38;5;21;01m.\u001b[39;00m\u001b[38;5;21;01mutils\u001b[39;00m\u001b[38;5;21;01m.\u001b[39;00m\u001b[38;5;21;01mextmath\u001b[39;00m \u001b[38;5;28;01mimport\u001b[39;00m row_norms, squared_norm\n\u001b[1;32m     13\u001b[0m \u001b[38;5;28;01mfrom\u001b[39;00m \u001b[38;5;21;01msklearn\u001b[39;00m\u001b[38;5;21;01m.\u001b[39;00m\u001b[38;5;21;01mutils\u001b[39;00m\u001b[38;5;21;01m.\u001b[39;00m\u001b[38;5;21;01mvalidation\u001b[39;00m \u001b[38;5;28;01mimport\u001b[39;00m _num_samples\n\u001b[0;32m---> 15\u001b[0m \u001b[38;5;28;01mfrom\u001b[39;00m \u001b[38;5;21;01m.\u001b[39;00m\u001b[38;5;21;01mregacy\u001b[39;00m \u001b[38;5;28;01mimport\u001b[39;00m (\n\u001b[1;32m     16\u001b[0m     _check_sample_weight,\n\u001b[1;32m     17\u001b[0m     _init_centroids,\n\u001b[1;32m     18\u001b[0m     _labels_inertia,\n\u001b[1;32m     19\u001b[0m     _tolerance,\n\u001b[1;32m     20\u001b[0m     _validate_center_shape,\n\u001b[1;32m     21\u001b[0m )\n\u001b[1;32m     24\u001b[0m \u001b[38;5;28;01mdef\u001b[39;00m \u001b[38;5;21m_spherical_kmeans_single_lloyd\u001b[39m(\n\u001b[1;32m     25\u001b[0m     X: np\u001b[38;5;241m.\u001b[39mndarray,\n\u001b[1;32m     26\u001b[0m     n_clusters: \u001b[38;5;28mint\u001b[39m,\n\u001b[0;32m   (...)\u001b[0m\n\u001b[1;32m     34\u001b[0m     precompute_distances\u001b[38;5;241m=\u001b[39m\u001b[38;5;28;01mTrue\u001b[39;00m,\n\u001b[1;32m     35\u001b[0m ):\n\u001b[1;32m     36\u001b[0m \u001b[38;5;250m    \u001b[39m\u001b[38;5;124;03m\"\"\"\u001b[39;00m\n\u001b[1;32m     37\u001b[0m \u001b[38;5;124;03m    Modified from sklearn.cluster.k_means_.k_means_single_lloyd.\u001b[39;00m\n\u001b[1;32m     38\u001b[0m \u001b[38;5;124;03m    \"\"\"\u001b[39;00m\n",
      "\u001b[0;31mImportError\u001b[0m: cannot import name '_tolerance' from 'spherecluster.regacy' (/home/godwin/Documents/academic/PPD/torchSTC/stc2/lib/python3.11/site-packages/spherecluster/regacy.py)"
     ]
    }
   ],
   "source": [
    "import sys\n",
    "from os.path import abspath\n",
    "sys.path.insert(0, abspath('..'))\n",
    "\n",
    "from os.path import join\n",
    "\n",
    "import scipy\n",
    "from sklearn.model_selection import train_test_split\n",
    "from sklearn.cluster import KMeans\n",
    "from spherecluster import VonMisesFisherMixture\n",
    "\n",
    "import torch\n",
    "from torchSTC.data import load_data\n",
    "from torchSTC.modules import STC\n",
    "from torchSTC.metrics import SpacePlot, Evaluate\n",
    "#from torchSTC.utils import SphericalKMeans\n",
    "\n",
    "\n",
    "plot = SpacePlot()\n",
    "eval = Evaluate()"
   ]
  },
  {
   "cell_type": "code",
   "execution_count": 2,
   "metadata": {},
   "outputs": [],
   "source": [
    "cur = abspath(\"\")\n",
    "dataset = 'Biomedical'\n",
    "data_in_dir=join(cur, \"../..\", \"datasets\")\n",
    "dataset_dir=join(data_in_dir, dataset)"
   ]
  },
  {
   "cell_type": "code",
   "execution_count": 3,
   "metadata": {},
   "outputs": [
    {
     "data": {
      "text/plain": [
       "'/home/godwin/Documents/academic/PPD/torchSTC/demos/Biomedical/../../datasets/Biomedical/artefacts/STC-d48:500:500:2000:20-epoch15-datBiomedical-wdeWord2Vec-scaMinMax-tfeSIF-normNone-initKmeans/STC-datBiomedical-wdeWord2Vec-scaMinMax-tfeSIF-normNone-initKmeans.pth'"
      ]
     },
     "execution_count": 3,
     "metadata": {},
     "output_type": "execute_result"
    }
   ],
   "source": [
    "checkpoint_dir=join(dataset_dir, \n",
    "                    \"artefacts\",\n",
    "                    \"STC-d48:500:500:2000:20-epoch15-datBiomedical-wdeWord2Vec-scaMinMax-tfeSIF-normNone-initKmeans\"\n",
    "                    )\n",
    "\n",
    "checkpoint = \"STC-datBiomedical-wdeWord2Vec-scaMinMax-tfeSIF-normNone-initKmeans.pth\"\n",
    "checkpoint_path = join(checkpoint_dir, checkpoint)\n",
    "checkpoint_path"
   ]
  },
  {
   "cell_type": "code",
   "execution_count": 4,
   "metadata": {},
   "outputs": [
    {
     "name": "stdout",
     "output_type": "stream",
     "text": [
      "### Embedding started...\n",
      "Test w2v ==> ==> ==> \n",
      "#### SIF embedding started...\n",
      "SIF-Embedding 19999 documents with 48-dimensional word vectors...\n",
      "SVD decomposition...\n",
      "### SIF embedding completed...\n",
      "### Embedding completed...\n",
      "[embed_docs] XX shape:  (20000, 48)\n",
      "MinMax scaling completed...\n",
      "No normalization applied...\n"
     ]
    },
    {
     "data": {
      "text/plain": [
       "(torch.Size([18000, 48]),\n",
       " torch.Size([2000, 48]),\n",
       " torch.Size([18000]),\n",
       " torch.Size([2000]))"
      ]
     },
     "execution_count": 4,
     "metadata": {},
     "output_type": "execute_result"
    }
   ],
   "source": [
    "x, y = load_data(dataset=dataset_dir, word_emb='Word2Vec', transform='SIF', scaler='MinMax', norm=None)\n",
    "n_clusters = len(torch.unique(torch.tensor(y)))\n",
    "\n",
    "# Division des données en ensembles d'entraînement et de test\n",
    "X_train, X_test, y_train, y_test = train_test_split(x, y, test_size=0.1, random_state=0)\n",
    "\n",
    "# conversion des données en tenseurs\n",
    "X_train = torch.tensor(X_train, dtype=torch.float)\n",
    "X_test = torch.tensor(X_test, dtype=torch.float)\n",
    "y_train = torch.tensor(y_train, dtype=torch.long)\n",
    "y_test = torch.tensor(y_test, dtype=torch.long)\n",
    "\n",
    "stc = STC(hidden_dims=[torch.Tensor(X_train).shape[-1], 500, 500, 2000, 20], n_clusters=n_clusters)\n",
    "stc.from_pretrained(checkpoint_path)\n",
    "\n",
    "X_train.shape, X_test.shape, y_train.shape, y_test.shape"
   ]
  },
  {
   "cell_type": "code",
   "execution_count": 5,
   "metadata": {},
   "outputs": [],
   "source": [
    "z2 = stc.autoencoder.encoder(X_train)"
   ]
  },
  {
   "cell_type": "code",
   "execution_count": null,
   "metadata": {},
   "outputs": [],
   "source": [
    "# comprehension list with 5 runs of kmeans, get average and std of metrics\n",
    "avg_w2v_mmx_ikm2 = []\n",
    "tmp = []\n",
    "for i in range(5):\n",
    "    kmeans = KMeans(n_clusters=n_clusters, n_init=50)\n",
    "    kmeans.fit(z2.detach().numpy())\n",
    "    y_km_pred = kmeans.labels_\n",
    "    tmp.append(eval.allMetrics(y_train.detach().numpy(), y_km_pred))\n",
    "\n",
    "avg_w2v_mmx_ikm2 = np.array(tmp)\n",
    "np.round(avg_w2v_mmx_ikm2.mean(axis=0), 3) * 100, avg_w2v_mmx_ikm2.std(axis=0)"
   ]
  },
  {
   "cell_type": "code",
   "execution_count": null,
   "metadata": {},
   "outputs": [],
   "source": [
    "avg_w2v_mmx_iskm2 = []\n",
    "tmp = []\n",
    "for i in range(5):\n",
    "    skmeans = SphericalKmeans(n_clusters=n_clusters, n_init=50)\n",
    "    skmeans.fit(z2.detach().numpy())\n",
    "    y_skm_pred = skmeans.labels_\n",
    "    tmp.append(eval.allMetrics(y_train.detach().numpy(), y_skm_pred))\n",
    "\n",
    "avg_w2v_mmx_iskm2 = np.array(tmp)\n",
    "np.round(avg_w2v_mmx_iskm2.mean(axis=0), 3) * 100, avg_w2v_mmx_iskm2.std(axis=0)"
   ]
  },
  {
   "cell_type": "code",
   "execution_count": null,
   "metadata": {},
   "outputs": [],
   "source": [
    "kmeans = KMeans(n_clusters=n_clusters, n_init=50)\n",
    "kmeans.fit(z2.detach().numpy())\n",
    "y_km_pred2 = kmeans.labels_\n",
    "\n",
    "\n",
    "skmeans = SphericalKmeans(n_clusters=n_clusters, n_init=50)\n",
    "skmeans.fit(z2.detach().numpy())\n",
    "y_skm_pred2 = skmeans.labels_"
   ]
  },
  {
   "cell_type": "code",
   "execution_count": null,
   "metadata": {},
   "outputs": [],
   "source": [
    "print(min(y_km_pred2), len(np.unique(y_km_pred2)), max(y_km_pred2))\n",
    "print(min(y_skm_pred2), len(np.unique(y_skm_pred2)), max(y_skm_pred2))"
   ]
  },
  {
   "cell_type": "code",
   "execution_count": null,
   "metadata": {},
   "outputs": [],
   "source": [
    "eval.allMetrics(y_train.detach().numpy(), y_km_pred2)"
   ]
  },
  {
   "cell_type": "code",
   "execution_count": null,
   "metadata": {},
   "outputs": [],
   "source": [
    "eval.allMetrics(y_train.detach().numpy(), y_skm_pred2)"
   ]
  },
  {
   "cell_type": "code",
   "execution_count": null,
   "metadata": {},
   "outputs": [],
   "source": [
    "plot.commonSpace_plot(z2.detach().numpy(), comp=[0, 1], tagLabels=y_km_pred2,\n",
    "                      data_name=\"Snippets hgf final Kmeans assign\", dimred = 'UMAP')"
   ]
  },
  {
   "cell_type": "code",
   "execution_count": null,
   "metadata": {},
   "outputs": [],
   "source": [
    "plot.commonSpace_plot(z2.detach().numpy(), comp=[0, 1], tagLabels=y_km_pred2,\n",
    "                      data_name=\"Snippets hgf final Kmeans assign\", dimred = 'TSNE')"
   ]
  }
 ],
 "metadata": {
  "kernelspec": {
   "display_name": "essai",
   "language": "python",
   "name": "python3"
  },
  "language_info": {
   "codemirror_mode": {
    "name": "ipython",
    "version": 3
   },
   "file_extension": ".py",
   "mimetype": "text/x-python",
   "name": "python",
   "nbconvert_exporter": "python",
   "pygments_lexer": "ipython3",
   "version": "3.10.13"
  }
 },
 "nbformat": 4,
 "nbformat_minor": 2
}
