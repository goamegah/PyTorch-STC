{
 "cells": [
  {
   "cell_type": "code",
   "execution_count": 4,
   "metadata": {},
   "outputs": [
    {
     "ename": "ImportError",
     "evalue": "cannot import name '_tolerance' from 'spherecluster.regacy' (/home/godwin/Documents/academic/PPD/torchSTC/stc2/lib/python3.11/site-packages/spherecluster/regacy.py)",
     "output_type": "error",
     "traceback": [
      "\u001b[0;31m---------------------------------------------------------------------------\u001b[0m",
      "\u001b[0;31mImportError\u001b[0m                               Traceback (most recent call last)",
      "Cell \u001b[0;32mIn[4], line 10\u001b[0m\n\u001b[1;32m      8\u001b[0m \u001b[38;5;28;01mfrom\u001b[39;00m \u001b[38;5;21;01msklearn\u001b[39;00m\u001b[38;5;21;01m.\u001b[39;00m\u001b[38;5;21;01mmodel_selection\u001b[39;00m \u001b[38;5;28;01mimport\u001b[39;00m train_test_split\n\u001b[1;32m      9\u001b[0m \u001b[38;5;28;01mfrom\u001b[39;00m \u001b[38;5;21;01msklearn\u001b[39;00m\u001b[38;5;21;01m.\u001b[39;00m\u001b[38;5;21;01mcluster\u001b[39;00m \u001b[38;5;28;01mimport\u001b[39;00m KMeans\n\u001b[0;32m---> 10\u001b[0m \u001b[38;5;28;01mfrom\u001b[39;00m \u001b[38;5;21;01mspherecluster\u001b[39;00m \u001b[38;5;28;01mimport\u001b[39;00m VonMisesFisherMixture\n\u001b[1;32m     12\u001b[0m \u001b[38;5;28;01mimport\u001b[39;00m \u001b[38;5;21;01mtorch\u001b[39;00m\n\u001b[1;32m     13\u001b[0m \u001b[38;5;28;01mfrom\u001b[39;00m \u001b[38;5;21;01mtorchSTC\u001b[39;00m\u001b[38;5;21;01m.\u001b[39;00m\u001b[38;5;21;01mdata\u001b[39;00m \u001b[38;5;28;01mimport\u001b[39;00m load_data\n",
      "File \u001b[0;32m~/Documents/academic/PPD/torchSTC/stc2/lib/python3.11/site-packages/spherecluster/__init__.py:3\u001b[0m\n\u001b[1;32m      1\u001b[0m \u001b[38;5;28;01mfrom\u001b[39;00m \u001b[38;5;21;01m__future__\u001b[39;00m \u001b[38;5;28;01mimport\u001b[39;00m absolute_import\n\u001b[0;32m----> 3\u001b[0m \u001b[38;5;28;01mfrom\u001b[39;00m \u001b[38;5;21;01m.\u001b[39;00m\u001b[38;5;21;01mspherical_kmeans\u001b[39;00m \u001b[38;5;28;01mimport\u001b[39;00m SphericalKMeans\n\u001b[1;32m      4\u001b[0m \u001b[38;5;28;01mfrom\u001b[39;00m \u001b[38;5;21;01m.\u001b[39;00m\u001b[38;5;21;01mutil\u001b[39;00m \u001b[38;5;28;01mimport\u001b[39;00m sample_vMF\n\u001b[1;32m      5\u001b[0m \u001b[38;5;28;01mfrom\u001b[39;00m \u001b[38;5;21;01m.\u001b[39;00m\u001b[38;5;21;01mvon_mises_fisher_mixture\u001b[39;00m \u001b[38;5;28;01mimport\u001b[39;00m VonMisesFisherMixture\n",
      "File \u001b[0;32m~/Documents/academic/PPD/torchSTC/stc2/lib/python3.11/site-packages/spherecluster/spherical_kmeans.py:15\u001b[0m\n\u001b[1;32m     12\u001b[0m \u001b[38;5;28;01mfrom\u001b[39;00m \u001b[38;5;21;01msklearn\u001b[39;00m\u001b[38;5;21;01m.\u001b[39;00m\u001b[38;5;21;01mutils\u001b[39;00m\u001b[38;5;21;01m.\u001b[39;00m\u001b[38;5;21;01mextmath\u001b[39;00m \u001b[38;5;28;01mimport\u001b[39;00m row_norms, squared_norm\n\u001b[1;32m     13\u001b[0m \u001b[38;5;28;01mfrom\u001b[39;00m \u001b[38;5;21;01msklearn\u001b[39;00m\u001b[38;5;21;01m.\u001b[39;00m\u001b[38;5;21;01mutils\u001b[39;00m\u001b[38;5;21;01m.\u001b[39;00m\u001b[38;5;21;01mvalidation\u001b[39;00m \u001b[38;5;28;01mimport\u001b[39;00m _num_samples\n\u001b[0;32m---> 15\u001b[0m \u001b[38;5;28;01mfrom\u001b[39;00m \u001b[38;5;21;01m.\u001b[39;00m\u001b[38;5;21;01mregacy\u001b[39;00m \u001b[38;5;28;01mimport\u001b[39;00m (\n\u001b[1;32m     16\u001b[0m     _check_sample_weight,\n\u001b[1;32m     17\u001b[0m     _init_centroids,\n\u001b[1;32m     18\u001b[0m     _labels_inertia,\n\u001b[1;32m     19\u001b[0m     _tolerance,\n\u001b[1;32m     20\u001b[0m     _validate_center_shape,\n\u001b[1;32m     21\u001b[0m )\n\u001b[1;32m     24\u001b[0m \u001b[38;5;28;01mdef\u001b[39;00m \u001b[38;5;21m_spherical_kmeans_single_lloyd\u001b[39m(\n\u001b[1;32m     25\u001b[0m     X: np\u001b[38;5;241m.\u001b[39mndarray,\n\u001b[1;32m     26\u001b[0m     n_clusters: \u001b[38;5;28mint\u001b[39m,\n\u001b[0;32m   (...)\u001b[0m\n\u001b[1;32m     34\u001b[0m     precompute_distances\u001b[38;5;241m=\u001b[39m\u001b[38;5;28;01mTrue\u001b[39;00m,\n\u001b[1;32m     35\u001b[0m ):\n\u001b[1;32m     36\u001b[0m \u001b[38;5;250m    \u001b[39m\u001b[38;5;124;03m\"\"\"\u001b[39;00m\n\u001b[1;32m     37\u001b[0m \u001b[38;5;124;03m    Modified from sklearn.cluster.k_means_.k_means_single_lloyd.\u001b[39;00m\n\u001b[1;32m     38\u001b[0m \u001b[38;5;124;03m    \"\"\"\u001b[39;00m\n",
      "\u001b[0;31mImportError\u001b[0m: cannot import name '_tolerance' from 'spherecluster.regacy' (/home/godwin/Documents/academic/PPD/torchSTC/stc2/lib/python3.11/site-packages/spherecluster/regacy.py)"
     ]
    }
   ],
   "source": [
    "import sys\n",
    "from os.path import abspath\n",
    "sys.path.insert(0, abspath('..'))\n",
    "\n",
    "from os.path import join\n",
    "\n",
    "import scipy\n",
    "from sklearn.model_selection import train_test_split\n",
    "from sklearn.cluster import KMeans\n",
    "from spherecluster import VonMisesFisherMixture\n",
    "\n",
    "import torch\n",
    "from torchSTC.data import load_data\n",
    "from torchSTC.modules import STC\n",
    "from torchSTC.metrics import SpacePlot, Evaluate\n",
    "#from torchSTC.utils import SphericalKMeans\n",
    "\n",
    "\n",
    "plot = SpacePlot()\n",
    "eval = Evaluate()"
   ]
  },
  {
   "cell_type": "code",
   "execution_count": 2,
   "metadata": {},
   "outputs": [],
   "source": [
    "cur = abspath(\"\")\n",
    "dataset = 'Biomedical'\n",
    "data_in_dir=join(cur, \"../..\", \"datasets\")\n",
    "dataset_dir=join(data_in_dir, dataset)"
   ]
  },
  {
   "cell_type": "code",
   "execution_count": 3,
   "metadata": {},
   "outputs": [
    {
     "data": {
      "text/plain": [
       "'/home/godwin/Documents/academic/PPD/torchSTC/demos/Biomedical/../../datasets/Biomedical/artefacts/STC-d48:500:500:2000:20-epoch15-datBiomedical-wdeWord2Vec-scaMinMax-tfeSIF-normNone-initKmeans/STC-datBiomedical-wdeWord2Vec-scaMinMax-tfeSIF-normNone-initKmeans.pth'"
      ]
     },
     "execution_count": 3,
     "metadata": {},
     "output_type": "execute_result"
    }
   ],
   "source": [
    "checkpoint_dir=join(dataset_dir, \n",
    "                    \"artefacts\",\n",
    "                    \"STC-d48:500:500:2000:20-epoch15-datBiomedical-wdeWord2Vec-scaMinMax-tfeSIF-normNone-initKmeans\"\n",
    "                    )\n",
    "\n",
    "checkpoint = \"STC-datBiomedical-wdeWord2Vec-scaMinMax-tfeSIF-normNone-initKmeans.pth\"\n",
    "checkpoint_path = join(checkpoint_dir, checkpoint)\n",
    "checkpoint_path"
   ]
  },
  {
   "cell_type": "code",
   "execution_count": 4,
   "metadata": {},
   "outputs": [
    {
     "name": "stdout",
     "output_type": "stream",
     "text": [
      "### Embedding started...\n",
      "Test w2v ==> ==> ==> \n",
      "#### SIF embedding started...\n",
      "SIF-Embedding 19999 documents with 48-dimensional word vectors...\n",
      "SVD decomposition...\n",
      "### SIF embedding completed...\n",
      "### Embedding completed...\n",
      "[embed_docs] XX shape:  (20000, 48)\n",
      "MinMax scaling completed...\n",
      "No normalization applied...\n"
     ]
    },
    {
     "data": {
      "text/plain": [
       "(torch.Size([18000, 48]),\n",
       " torch.Size([2000, 48]),\n",
       " torch.Size([18000]),\n",
       " torch.Size([2000]))"
      ]
     },
     "execution_count": 4,
     "metadata": {},
     "output_type": "execute_result"
    }
   ],
   "source": [
    "x, y = load_data(dataset=dataset_dir, word_emb='Word2Vec', transform='SIF', scaler='MinMax', norm=None)\n",
    "n_clusters = len(torch.unique(torch.tensor(y)))\n",
    "\n",
    "# Division des données en ensembles d'entraînement et de test\n",
    "X_train, X_test, y_train, y_test = train_test_split(x, y, test_size=0.1, random_state=0)\n",
    "\n",
    "# conversion des données en tenseurs\n",
    "X_train = torch.tensor(X_train, dtype=torch.float)\n",
    "X_test = torch.tensor(X_test, dtype=torch.float)\n",
    "y_train = torch.tensor(y_train, dtype=torch.long)\n",
    "y_test = torch.tensor(y_test, dtype=torch.long)\n",
    "\n",
    "stc = STC(hidden_dims=[torch.Tensor(X_train).shape[-1], 500, 500, 2000, 20], n_clusters=n_clusters)\n",
    "stc.from_pretrained(checkpoint_path)\n",
    "\n",
    "X_train.shape, X_test.shape, y_train.shape, y_test.shape"
   ]
  },
  {
   "cell_type": "code",
   "execution_count": 5,
   "metadata": {},
   "outputs": [],
   "source": [
    "z2 = stc.autoencoder.encoder(X_train)"
   ]
  },
  {
   "cell_type": "code",
   "execution_count": null,
   "metadata": {},
   "outputs": [],
   "source": [
    "# comprehension list with 5 runs of kmeans, get average and std of metrics\n",
    "avg_w2v_mmx_ikm2 = []\n",
    "tmp = []\n",
    "for i in range(5):\n",
    "    kmeans = KMeans(n_clusters=n_clusters, n_init=50)\n",
    "    kmeans.fit(z2.detach().numpy())\n",
    "    y_km_pred = kmeans.labels_\n",
    "    tmp.append(eval.allMetrics(y_train.detach().numpy(), y_km_pred))\n",
    "\n",
    "avg_w2v_mmx_ikm2 = np.array(tmp)\n",
    "np.round(avg_w2v_mmx_ikm2.mean(axis=0), 3) * 100, avg_w2v_mmx_ikm2.std(axis=0)"
   ]
  },
  {
   "cell_type": "code",
   "execution_count": null,
   "metadata": {},
   "outputs": [],
   "source": [
    "avg_w2v_mmx_iskm2 = []\n",
    "tmp = []\n",
    "for i in range(5):\n",
    "    skmeans = SphericalKmeans(n_clusters=n_clusters, n_init=50)\n",
    "    skmeans.fit(z2.detach().numpy())\n",
    "    y_skm_pred = skmeans.labels_\n",
    "    tmp.append(eval.allMetrics(y_train.detach().numpy(), y_skm_pred))\n",
    "\n",
    "avg_w2v_mmx_iskm2 = np.array(tmp)\n",
    "np.round(avg_w2v_mmx_iskm2.mean(axis=0), 3) * 100, avg_w2v_mmx_iskm2.std(axis=0)"
   ]
  },
  {
   "cell_type": "code",
   "execution_count": null,
   "metadata": {},
   "outputs": [],
   "source": [
    "kmeans = KMeans(n_clusters=n_clusters, n_init=50)\n",
    "kmeans.fit(z2.detach().numpy())\n",
    "y_km_pred2 = kmeans.labels_\n",
    "\n",
    "\n",
    "skmeans = SphericalKmeans(n_clusters=n_clusters, n_init=50)\n",
    "skmeans.fit(z2.detach().numpy())\n",
    "y_skm_pred2 = skmeans.labels_"
   ]
  },
  {
   "cell_type": "code",
   "execution_count": null,
   "metadata": {},
   "outputs": [],
   "source": [
    "print(min(y_km_pred2), len(np.unique(y_km_pred2)), max(y_km_pred2))\n",
    "print(min(y_skm_pred2), len(np.unique(y_skm_pred2)), max(y_skm_pred2))"
   ]
  },
  {
   "cell_type": "code",
   "execution_count": null,
   "metadata": {},
   "outputs": [],
   "source": [
    "eval.allMetrics(y_train.detach().numpy(), y_km_pred2)"
   ]
  },
  {
   "cell_type": "code",
   "execution_count": null,
   "metadata": {},
   "outputs": [],
   "source": [
    "eval.allMetrics(y_train.detach().numpy(), y_skm_pred2)"
   ]
  },
  {
   "cell_type": "code",
   "execution_count": null,
   "metadata": {},
   "outputs": [],
   "source": [
    "plot.commonSpace_plot(z2.detach().numpy(), comp=[0, 1], tagLabels=y_km_pred2,\n",
    "                      data_name=\"Snippets hgf final Kmeans assign\", dimred = 'UMAP')"
   ]
  },
  {
   "cell_type": "code",
   "execution_count": null,
   "metadata": {},
   "outputs": [],
   "source": [
    "plot.commonSpace_plot(z2.detach().numpy(), comp=[0, 1], tagLabels=y_km_pred2,\n",
    "                      data_name=\"Snippets hgf final Kmeans assign\", dimred = 'TSNE')"
   ]
  },
  {
   "cell_type": "code",
   "execution_count": 6,
   "metadata": {},
   "outputs": [],
   "source": [
    "# movMF-hard\n",
    "vmf_hard = VonMisesFisherMixture(n_clusters=n_clusters, posterior_type='soft')\n"
   ]
  },
  {
   "cell_type": "code",
   "execution_count": 14,
   "metadata": {},
   "outputs": [],
   "source": [
    "x = z2.detach().numpy()"
   ]
  },
  {
   "cell_type": "code",
   "execution_count": 15,
   "metadata": {},
   "outputs": [
    {
     "name": "stderr",
     "output_type": "stream",
     "text": [
      "/home/godwin/Documents/academic/PPD/torchSTC/stc2/lib/python3.11/site-packages/spherecluster/von_mises_fisher_mixture.py:58: RuntimeWarning: divide by zero encountered in log\n",
      "  return np.log(_vmf_normalize(kappa, n_features) * np.exp(kappa * X.dot(mu).T))\n",
      "/home/godwin/Documents/academic/PPD/torchSTC/stc2/lib/python3.11/site-packages/spherecluster/von_mises_fisher_mixture.py:72: RuntimeWarning: overflow encountered in scalar multiply\n",
      "  denom = np.power(2.0 * np.pi, dim / 2.0) * iv(dim / 2.0 - 1.0, kappa)\n"
     ]
    },
    {
     "ename": "ValueError",
     "evalue": "VMF scaling denominator was inf.",
     "output_type": "error",
     "traceback": [
      "\u001b[0;31m---------------------------------------------------------------------------\u001b[0m",
      "\u001b[0;31mValueError\u001b[0m                                Traceback (most recent call last)",
      "Cell \u001b[0;32mIn[15], line 1\u001b[0m\n\u001b[0;32m----> 1\u001b[0m \u001b[43mvmf_hard\u001b[49m\u001b[38;5;241;43m.\u001b[39;49m\u001b[43mfit\u001b[49m\u001b[43m(\u001b[49m\u001b[43mx\u001b[49m\u001b[43m)\u001b[49m\n\u001b[1;32m      3\u001b[0m \u001b[38;5;66;03m# vmf_hard.cluster_centers_\u001b[39;00m\n\u001b[1;32m      4\u001b[0m \u001b[38;5;66;03m# vmf_hard.labels_\u001b[39;00m\n\u001b[1;32m      5\u001b[0m \u001b[38;5;66;03m# vmf_hard.weights_\u001b[39;00m\n\u001b[1;32m      6\u001b[0m \u001b[38;5;66;03m# vmf_hard.concentrations_\u001b[39;00m\n\u001b[1;32m      7\u001b[0m \u001b[38;5;66;03m# vmf_hard.inertia_\u001b[39;00m\n",
      "File \u001b[0;32m~/Documents/academic/PPD/torchSTC/stc2/lib/python3.11/site-packages/spherecluster/von_mises_fisher_mixture.py:834\u001b[0m, in \u001b[0;36mVonMisesFisherMixture.fit\u001b[0;34m(self, X, y)\u001b[0m\n\u001b[1;32m    824\u001b[0m random_state \u001b[38;5;241m=\u001b[39m check_random_state(\u001b[38;5;28mself\u001b[39m\u001b[38;5;241m.\u001b[39mrandom_state)\n\u001b[1;32m    825\u001b[0m X \u001b[38;5;241m=\u001b[39m \u001b[38;5;28mself\u001b[39m\u001b[38;5;241m.\u001b[39m_check_fit_data(X)\n\u001b[1;32m    827\u001b[0m (\n\u001b[1;32m    828\u001b[0m     \u001b[38;5;28mself\u001b[39m\u001b[38;5;241m.\u001b[39mcluster_centers_,\n\u001b[1;32m    829\u001b[0m     \u001b[38;5;28mself\u001b[39m\u001b[38;5;241m.\u001b[39mlabels_,\n\u001b[1;32m    830\u001b[0m     \u001b[38;5;28mself\u001b[39m\u001b[38;5;241m.\u001b[39minertia_,\n\u001b[1;32m    831\u001b[0m     \u001b[38;5;28mself\u001b[39m\u001b[38;5;241m.\u001b[39mweights_,\n\u001b[1;32m    832\u001b[0m     \u001b[38;5;28mself\u001b[39m\u001b[38;5;241m.\u001b[39mconcentrations_,\n\u001b[1;32m    833\u001b[0m     \u001b[38;5;28mself\u001b[39m\u001b[38;5;241m.\u001b[39mposterior_,\n\u001b[0;32m--> 834\u001b[0m ) \u001b[38;5;241m=\u001b[39m \u001b[43mmovMF\u001b[49m\u001b[43m(\u001b[49m\n\u001b[1;32m    835\u001b[0m \u001b[43m    \u001b[49m\u001b[43mX\u001b[49m\u001b[43m,\u001b[49m\n\u001b[1;32m    836\u001b[0m \u001b[43m    \u001b[49m\u001b[38;5;28;43mself\u001b[39;49m\u001b[38;5;241;43m.\u001b[39;49m\u001b[43mn_clusters\u001b[49m\u001b[43m,\u001b[49m\n\u001b[1;32m    837\u001b[0m \u001b[43m    \u001b[49m\u001b[43mposterior_type\u001b[49m\u001b[38;5;241;43m=\u001b[39;49m\u001b[38;5;28;43mself\u001b[39;49m\u001b[38;5;241;43m.\u001b[39;49m\u001b[43mposterior_type\u001b[49m\u001b[43m,\u001b[49m\n\u001b[1;32m    838\u001b[0m \u001b[43m    \u001b[49m\u001b[43mforce_weights\u001b[49m\u001b[38;5;241;43m=\u001b[39;49m\u001b[38;5;28;43mself\u001b[39;49m\u001b[38;5;241;43m.\u001b[39;49m\u001b[43mforce_weights\u001b[49m\u001b[43m,\u001b[49m\n\u001b[1;32m    839\u001b[0m \u001b[43m    \u001b[49m\u001b[43mn_init\u001b[49m\u001b[38;5;241;43m=\u001b[39;49m\u001b[38;5;28;43mself\u001b[39;49m\u001b[38;5;241;43m.\u001b[39;49m\u001b[43mn_init\u001b[49m\u001b[43m,\u001b[49m\n\u001b[1;32m    840\u001b[0m \u001b[43m    \u001b[49m\u001b[43mn_jobs\u001b[49m\u001b[38;5;241;43m=\u001b[39;49m\u001b[38;5;28;43mself\u001b[39;49m\u001b[38;5;241;43m.\u001b[39;49m\u001b[43mn_jobs\u001b[49m\u001b[43m,\u001b[49m\n\u001b[1;32m    841\u001b[0m \u001b[43m    \u001b[49m\u001b[43mmax_iter\u001b[49m\u001b[38;5;241;43m=\u001b[39;49m\u001b[38;5;28;43mself\u001b[39;49m\u001b[38;5;241;43m.\u001b[39;49m\u001b[43mmax_iter\u001b[49m\u001b[43m,\u001b[49m\n\u001b[1;32m    842\u001b[0m \u001b[43m    \u001b[49m\u001b[43mverbose\u001b[49m\u001b[38;5;241;43m=\u001b[39;49m\u001b[38;5;28;43mself\u001b[39;49m\u001b[38;5;241;43m.\u001b[39;49m\u001b[43mverbose\u001b[49m\u001b[43m,\u001b[49m\n\u001b[1;32m    843\u001b[0m \u001b[43m    \u001b[49m\u001b[43minit\u001b[49m\u001b[38;5;241;43m=\u001b[39;49m\u001b[38;5;28;43mself\u001b[39;49m\u001b[38;5;241;43m.\u001b[39;49m\u001b[43minit\u001b[49m\u001b[43m,\u001b[49m\n\u001b[1;32m    844\u001b[0m \u001b[43m    \u001b[49m\u001b[43mrandom_state\u001b[49m\u001b[38;5;241;43m=\u001b[39;49m\u001b[43mrandom_state\u001b[49m\u001b[43m,\u001b[49m\n\u001b[1;32m    845\u001b[0m \u001b[43m    \u001b[49m\u001b[43mtol\u001b[49m\u001b[38;5;241;43m=\u001b[39;49m\u001b[38;5;28;43mself\u001b[39;49m\u001b[38;5;241;43m.\u001b[39;49m\u001b[43mtol\u001b[49m\u001b[43m,\u001b[49m\n\u001b[1;32m    846\u001b[0m \u001b[43m    \u001b[49m\u001b[43mcopy_x\u001b[49m\u001b[38;5;241;43m=\u001b[39;49m\u001b[38;5;28;43mself\u001b[39;49m\u001b[38;5;241;43m.\u001b[39;49m\u001b[43mcopy_x\u001b[49m\u001b[43m,\u001b[49m\n\u001b[1;32m    847\u001b[0m \u001b[43m\u001b[49m\u001b[43m)\u001b[49m\n\u001b[1;32m    849\u001b[0m \u001b[38;5;28;01mreturn\u001b[39;00m \u001b[38;5;28mself\u001b[39m\n",
      "File \u001b[0;32m~/Documents/academic/PPD/torchSTC/stc2/lib/python3.11/site-packages/spherecluster/von_mises_fisher_mixture.py:558\u001b[0m, in \u001b[0;36mmovMF\u001b[0;34m(X, n_clusters, posterior_type, force_weights, n_init, n_jobs, max_iter, verbose, init, random_state, tol, copy_x)\u001b[0m\n\u001b[1;32m    553\u001b[0m \u001b[38;5;28;01mif\u001b[39;00m n_jobs \u001b[38;5;241m==\u001b[39m \u001b[38;5;241m1\u001b[39m:\n\u001b[1;32m    554\u001b[0m     \u001b[38;5;66;03m# For a single thread, less memory is needed if we just store one set\u001b[39;00m\n\u001b[1;32m    555\u001b[0m     \u001b[38;5;66;03m# of the best results (as opposed to one set per run per thread).\u001b[39;00m\n\u001b[1;32m    556\u001b[0m     \u001b[38;5;28;01mfor\u001b[39;00m it \u001b[38;5;129;01min\u001b[39;00m \u001b[38;5;28mrange\u001b[39m(n_init):\n\u001b[1;32m    557\u001b[0m         \u001b[38;5;66;03m# cluster on the sphere\u001b[39;00m\n\u001b[0;32m--> 558\u001b[0m         (centers, weights, concentrations, posterior, labels, inertia) \u001b[38;5;241m=\u001b[39m \u001b[43m_movMF\u001b[49m\u001b[43m(\u001b[49m\n\u001b[1;32m    559\u001b[0m \u001b[43m            \u001b[49m\u001b[43mX\u001b[49m\u001b[43m,\u001b[49m\n\u001b[1;32m    560\u001b[0m \u001b[43m            \u001b[49m\u001b[43mn_clusters\u001b[49m\u001b[43m,\u001b[49m\n\u001b[1;32m    561\u001b[0m \u001b[43m            \u001b[49m\u001b[43mposterior_type\u001b[49m\u001b[38;5;241;43m=\u001b[39;49m\u001b[43mposterior_type\u001b[49m\u001b[43m,\u001b[49m\n\u001b[1;32m    562\u001b[0m \u001b[43m            \u001b[49m\u001b[43mforce_weights\u001b[49m\u001b[38;5;241;43m=\u001b[39;49m\u001b[43mforce_weights\u001b[49m\u001b[43m,\u001b[49m\n\u001b[1;32m    563\u001b[0m \u001b[43m            \u001b[49m\u001b[43mmax_iter\u001b[49m\u001b[38;5;241;43m=\u001b[39;49m\u001b[43mmax_iter\u001b[49m\u001b[43m,\u001b[49m\n\u001b[1;32m    564\u001b[0m \u001b[43m            \u001b[49m\u001b[43mverbose\u001b[49m\u001b[38;5;241;43m=\u001b[39;49m\u001b[43mverbose\u001b[49m\u001b[43m,\u001b[49m\n\u001b[1;32m    565\u001b[0m \u001b[43m            \u001b[49m\u001b[43minit\u001b[49m\u001b[38;5;241;43m=\u001b[39;49m\u001b[43minit\u001b[49m\u001b[43m,\u001b[49m\n\u001b[1;32m    566\u001b[0m \u001b[43m            \u001b[49m\u001b[43mrandom_state\u001b[49m\u001b[38;5;241;43m=\u001b[39;49m\u001b[43mrandom_state\u001b[49m\u001b[43m,\u001b[49m\n\u001b[1;32m    567\u001b[0m \u001b[43m            \u001b[49m\u001b[43mtol\u001b[49m\u001b[38;5;241;43m=\u001b[39;49m\u001b[43mtol\u001b[49m\u001b[43m,\u001b[49m\n\u001b[1;32m    568\u001b[0m \u001b[43m        \u001b[49m\u001b[43m)\u001b[49m\n\u001b[1;32m    570\u001b[0m         \u001b[38;5;66;03m# determine if these results are the best so far\u001b[39;00m\n\u001b[1;32m    571\u001b[0m         \u001b[38;5;28;01mif\u001b[39;00m best_inertia \u001b[38;5;129;01mis\u001b[39;00m \u001b[38;5;28;01mNone\u001b[39;00m \u001b[38;5;129;01mor\u001b[39;00m inertia \u001b[38;5;241m<\u001b[39m best_inertia:\n",
      "File \u001b[0;32m~/Documents/academic/PPD/torchSTC/stc2/lib/python3.11/site-packages/spherecluster/von_mises_fisher_mixture.py:471\u001b[0m, in \u001b[0;36m_movMF\u001b[0;34m(X, n_clusters, posterior_type, force_weights, max_iter, verbose, init, random_state, tol)\u001b[0m\n\u001b[1;32m    468\u001b[0m centers_prev \u001b[38;5;241m=\u001b[39m centers\u001b[38;5;241m.\u001b[39mcopy()\n\u001b[1;32m    470\u001b[0m \u001b[38;5;66;03m# expectation step\u001b[39;00m\n\u001b[0;32m--> 471\u001b[0m posterior \u001b[38;5;241m=\u001b[39m \u001b[43m_expectation\u001b[49m\u001b[43m(\u001b[49m\n\u001b[1;32m    472\u001b[0m \u001b[43m    \u001b[49m\u001b[43mX\u001b[49m\u001b[43m,\u001b[49m\u001b[43m \u001b[49m\u001b[43mcenters\u001b[49m\u001b[43m,\u001b[49m\u001b[43m \u001b[49m\u001b[43mweights\u001b[49m\u001b[43m,\u001b[49m\u001b[43m \u001b[49m\u001b[43mconcentrations\u001b[49m\u001b[43m,\u001b[49m\u001b[43m \u001b[49m\u001b[43mposterior_type\u001b[49m\u001b[38;5;241;43m=\u001b[39;49m\u001b[43mposterior_type\u001b[49m\n\u001b[1;32m    473\u001b[0m \u001b[43m\u001b[49m\u001b[43m)\u001b[49m\n\u001b[1;32m    475\u001b[0m \u001b[38;5;66;03m# maximization step\u001b[39;00m\n\u001b[1;32m    476\u001b[0m centers, weights, concentrations \u001b[38;5;241m=\u001b[39m _maximization(\n\u001b[1;32m    477\u001b[0m     X, posterior, force_weights\u001b[38;5;241m=\u001b[39mforce_weights\n\u001b[1;32m    478\u001b[0m )\n",
      "File \u001b[0;32m~/Documents/academic/PPD/torchSTC/stc2/lib/python3.11/site-packages/spherecluster/von_mises_fisher_mixture.py:278\u001b[0m, in \u001b[0;36m_expectation\u001b[0;34m(X, centers, weights, concentrations, posterior_type)\u001b[0m\n\u001b[1;32m    276\u001b[0m f_log \u001b[38;5;241m=\u001b[39m np\u001b[38;5;241m.\u001b[39mzeros((n_clusters, n_examples))\n\u001b[1;32m    277\u001b[0m \u001b[38;5;28;01mfor\u001b[39;00m cc \u001b[38;5;129;01min\u001b[39;00m \u001b[38;5;28mrange\u001b[39m(n_clusters):\n\u001b[0;32m--> 278\u001b[0m     f_log[cc, :] \u001b[38;5;241m=\u001b[39m \u001b[43mvmf_f\u001b[49m\u001b[43m(\u001b[49m\u001b[43mX\u001b[49m\u001b[43m,\u001b[49m\u001b[43m \u001b[49m\u001b[43mconcentrations\u001b[49m\u001b[43m[\u001b[49m\u001b[43mcc\u001b[49m\u001b[43m]\u001b[49m\u001b[43m,\u001b[49m\u001b[43m \u001b[49m\u001b[43mcenters\u001b[49m\u001b[43m[\u001b[49m\u001b[43mcc\u001b[49m\u001b[43m,\u001b[49m\u001b[43m \u001b[49m\u001b[43m:\u001b[49m\u001b[43m]\u001b[49m\u001b[43m)\u001b[49m\n\u001b[1;32m    280\u001b[0m posterior \u001b[38;5;241m=\u001b[39m np\u001b[38;5;241m.\u001b[39mzeros((n_clusters, n_examples))\n\u001b[1;32m    281\u001b[0m \u001b[38;5;28;01mif\u001b[39;00m posterior_type \u001b[38;5;241m==\u001b[39m \u001b[38;5;124m\"\u001b[39m\u001b[38;5;124msoft\u001b[39m\u001b[38;5;124m\"\u001b[39m:\n",
      "File \u001b[0;32m~/Documents/academic/PPD/torchSTC/stc2/lib/python3.11/site-packages/spherecluster/von_mises_fisher_mixture.py:58\u001b[0m, in \u001b[0;36m_vmf_log\u001b[0;34m(X, kappa, mu)\u001b[0m\n\u001b[1;32m     52\u001b[0m \u001b[38;5;250m\u001b[39m\u001b[38;5;124;03m\"\"\"Computs log(vMF(X, kappa, mu)) using built-in numpy/scipy Bessel\u001b[39;00m\n\u001b[1;32m     53\u001b[0m \u001b[38;5;124;03mapproximations.\u001b[39;00m\n\u001b[1;32m     54\u001b[0m \n\u001b[1;32m     55\u001b[0m \u001b[38;5;124;03mWorks well on small kappa and mu.\u001b[39;00m\n\u001b[1;32m     56\u001b[0m \u001b[38;5;124;03m\"\"\"\u001b[39;00m\n\u001b[1;32m     57\u001b[0m n_examples, n_features \u001b[38;5;241m=\u001b[39m X\u001b[38;5;241m.\u001b[39mshape\n\u001b[0;32m---> 58\u001b[0m \u001b[38;5;28;01mreturn\u001b[39;00m np\u001b[38;5;241m.\u001b[39mlog(\u001b[43m_vmf_normalize\u001b[49m\u001b[43m(\u001b[49m\u001b[43mkappa\u001b[49m\u001b[43m,\u001b[49m\u001b[43m \u001b[49m\u001b[43mn_features\u001b[49m\u001b[43m)\u001b[49m \u001b[38;5;241m*\u001b[39m np\u001b[38;5;241m.\u001b[39mexp(kappa \u001b[38;5;241m*\u001b[39m X\u001b[38;5;241m.\u001b[39mdot(mu)\u001b[38;5;241m.\u001b[39mT))\n",
      "File \u001b[0;32m~/Documents/academic/PPD/torchSTC/stc2/lib/python3.11/site-packages/spherecluster/von_mises_fisher_mixture.py:78\u001b[0m, in \u001b[0;36m_vmf_normalize\u001b[0;34m(kappa, dim)\u001b[0m\n\u001b[1;32m     75\u001b[0m     \u001b[38;5;28;01mraise\u001b[39;00m \u001b[38;5;167;01mValueError\u001b[39;00m(\u001b[38;5;124m\"\u001b[39m\u001b[38;5;124mVMF scaling numerator was inf.\u001b[39m\u001b[38;5;124m\"\u001b[39m)\n\u001b[1;32m     77\u001b[0m \u001b[38;5;28;01mif\u001b[39;00m np\u001b[38;5;241m.\u001b[39misinf(denom):\n\u001b[0;32m---> 78\u001b[0m     \u001b[38;5;28;01mraise\u001b[39;00m \u001b[38;5;167;01mValueError\u001b[39;00m(\u001b[38;5;124m\"\u001b[39m\u001b[38;5;124mVMF scaling denominator was inf.\u001b[39m\u001b[38;5;124m\"\u001b[39m)\n\u001b[1;32m     80\u001b[0m \u001b[38;5;28;01mif\u001b[39;00m np\u001b[38;5;241m.\u001b[39mabs(denom) \u001b[38;5;241m<\u001b[39m \u001b[38;5;241m1e-15\u001b[39m:\n\u001b[1;32m     81\u001b[0m     \u001b[38;5;28;01mraise\u001b[39;00m \u001b[38;5;167;01mValueError\u001b[39;00m(\u001b[38;5;124m\"\u001b[39m\u001b[38;5;124mVMF scaling denominator was 0.\u001b[39m\u001b[38;5;124m\"\u001b[39m)\n",
      "\u001b[0;31mValueError\u001b[0m: VMF scaling denominator was inf."
     ]
    }
   ],
   "source": [
    "vmf_hard.fit(x)\n",
    "\n",
    "# vmf_hard.cluster_centers_\n",
    "# vmf_hard.labels_\n",
    "# vmf_hard.weights_\n",
    "# vmf_hard.concentrations_\n",
    "# vmf_hard.inertia_"
   ]
  },
  {
   "cell_type": "code",
   "execution_count": null,
   "metadata": {},
   "outputs": [],
   "source": []
  }
 ],
 "metadata": {
  "kernelspec": {
   "display_name": "essai",
   "language": "python",
   "name": "python3"
  },
  "language_info": {
   "codemirror_mode": {
    "name": "ipython",
    "version": 3
   },
   "file_extension": ".py",
   "mimetype": "text/x-python",
   "name": "python",
   "nbconvert_exporter": "python",
   "pygments_lexer": "ipython3",
   "version": "3.11.8"
  }
 },
 "nbformat": 4,
 "nbformat_minor": 2
}
